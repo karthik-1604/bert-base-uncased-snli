{
 "cells": [
  {
   "cell_type": "markdown",
   "metadata": {},
   "source": [
    "# Task - 1 - Natural Language Inference (NLI)"
   ]
  },
  {
   "cell_type": "markdown",
   "metadata": {},
   "source": [
    "## 1.Install Necessary Libraries"
   ]
  },
  {
   "cell_type": "code",
   "execution_count": 1,
   "metadata": {
    "execution": {
     "iopub.execute_input": "2025-04-01T17:18:51.401127Z",
     "iopub.status.busy": "2025-04-01T17:18:51.400844Z",
     "iopub.status.idle": "2025-04-01T17:18:58.926774Z",
     "shell.execute_reply": "2025-04-01T17:18:58.926003Z",
     "shell.execute_reply.started": "2025-04-01T17:18:51.401104Z"
    },
    "trusted": true
   },
   "outputs": [
    {
     "name": "stdout",
     "output_type": "stream",
     "text": [
      "\u001b[2K   \u001b[90m━━━━━━━━━━━━━━━━━━━━━━━━━━━━━━━━━━━━━━━━\u001b[0m \u001b[32m76.0/76.0 MB\u001b[0m \u001b[31m20.4 MB/s\u001b[0m eta \u001b[36m0:00:00\u001b[0m:00:01\u001b[0m00:01\u001b[0m\n",
      "\u001b[?25h"
     ]
    }
   ],
   "source": [
    "!pip install -q peft transformers accelerate bitsandbytes datasets\n"
   ]
  },
  {
   "cell_type": "markdown",
   "metadata": {},
   "source": [
    "## 2.Preprocessing the data files"
   ]
  },
  {
   "cell_type": "code",
   "execution_count": 2,
   "metadata": {
    "execution": {
     "iopub.execute_input": "2025-04-01T17:19:07.050516Z",
     "iopub.status.busy": "2025-04-01T17:19:07.050228Z",
     "iopub.status.idle": "2025-04-01T17:19:25.623359Z",
     "shell.execute_reply": "2025-04-01T17:19:25.622377Z",
     "shell.execute_reply.started": "2025-04-01T17:19:07.050494Z"
    },
    "trusted": true
   },
   "outputs": [],
   "source": [
    "import pandas as pd\n",
    "import re\n",
    "\n",
    "def extract_sentence(parse_str):\n",
    "    return ' '.join(re.findall(r'\\b\\w+\\b', str(parse_str)))\n",
    "\n",
    "def preprocess_dataset(path):\n",
    "    df = pd.read_csv(path, sep='\\t')\n",
    "    df = df.dropna(subset=['Label'])  # ✅ Drop rows with missing labels\n",
    "    df['premise'] = df['Sent1_parse'].apply(extract_sentence)\n",
    "    df['hypothesis'] = df['Sent2_parse'].apply(extract_sentence)\n",
    "    return df[['premise', 'hypothesis', 'Label']] \n",
    "\n",
    "# Set your paths here\n",
    "train_path = '/kaggle/input/recognizing-textual-entailment-rte/train.tsv'\n",
    "val_path = '/kaggle/input/recognizing-textual-entailment-rte/dev.tsv'\n",
    "test_path = '/kaggle/input/recognizing-textual-entailment-rte/test.tsv'\n",
    "\n",
    "# Preprocess\n",
    "train_df = preprocess_dataset(train_path)\n",
    "val_df = preprocess_dataset(val_path)\n",
    "test_df = preprocess_dataset(test_path)\n",
    "\n",
    "# Define valid labels\n",
    "label2id = {'entailment': 0, 'contradiction': 1, 'neutral': 2}\n",
    "id2label = {v: k for k, v in label2id.items()}\n",
    "valid_labels = set(label2id.keys())\n",
    "\n",
    "# Drop rows with invalid or missing labels\n",
    "train_df = train_df[train_df['Label'].isin(valid_labels)].copy()\n",
    "val_df = val_df[val_df['Label'].isin(valid_labels)].copy()\n",
    "test_df = test_df[test_df['Label'].isin(valid_labels)].copy()\n",
    "\n",
    "# Now map safely and cast to int\n",
    "train_df['label'] = train_df['Label'].map(label2id).astype(int)\n",
    "val_df['label'] = val_df['Label'].map(label2id).astype(int)\n",
    "test_df['label'] = test_df['Label'].map(label2id).astype(int)\n",
    "\n",
    "\n"
   ]
  },
  {
   "cell_type": "code",
   "execution_count": 8,
   "metadata": {
    "execution": {
     "iopub.execute_input": "2025-04-01T19:27:01.633458Z",
     "iopub.status.busy": "2025-04-01T19:27:01.633111Z",
     "iopub.status.idle": "2025-04-01T19:27:01.645098Z",
     "shell.execute_reply": "2025-04-01T19:27:01.644155Z",
     "shell.execute_reply.started": "2025-04-01T19:27:01.633433Z"
    },
    "trusted": true
   },
   "outputs": [
    {
     "name": "stdout",
     "output_type": "stream",
     "text": [
      "[2 1 0]\n",
      "int64\n"
     ]
    }
   ],
   "source": [
    "print(train_df['label'].unique())  # should print [0 1 2]\n",
    "print(train_df['label'].dtype)  "
   ]
  },
  {
   "cell_type": "markdown",
   "metadata": {},
   "source": [
    "## 3. Tokenization & Dataset Setup"
   ]
  },
  {
   "cell_type": "code",
   "execution_count": 3,
   "metadata": {
    "execution": {
     "iopub.execute_input": "2025-04-01T17:19:25.624932Z",
     "iopub.status.busy": "2025-04-01T17:19:25.624544Z",
     "iopub.status.idle": "2025-04-01T17:23:03.622630Z",
     "shell.execute_reply": "2025-04-01T17:23:03.621876Z",
     "shell.execute_reply.started": "2025-04-01T17:19:25.624902Z"
    },
    "trusted": true
   },
   "outputs": [
    {
     "data": {
      "application/vnd.jupyter.widget-view+json": {
       "model_id": "65b6e04c57cf4e0bb52afad74dfa1e73",
       "version_major": 2,
       "version_minor": 0
      },
      "text/plain": [
       "tokenizer_config.json:   0%|          | 0.00/48.0 [00:00<?, ?B/s]"
      ]
     },
     "metadata": {},
     "output_type": "display_data"
    },
    {
     "data": {
      "application/vnd.jupyter.widget-view+json": {
       "model_id": "6f8ef07a0536405a94fde9376d7c700a",
       "version_major": 2,
       "version_minor": 0
      },
      "text/plain": [
       "config.json:   0%|          | 0.00/570 [00:00<?, ?B/s]"
      ]
     },
     "metadata": {},
     "output_type": "display_data"
    },
    {
     "data": {
      "application/vnd.jupyter.widget-view+json": {
       "model_id": "dcd210f79d4d4994b86e810ae3d6dc5f",
       "version_major": 2,
       "version_minor": 0
      },
      "text/plain": [
       "vocab.txt:   0%|          | 0.00/232k [00:00<?, ?B/s]"
      ]
     },
     "metadata": {},
     "output_type": "display_data"
    },
    {
     "data": {
      "application/vnd.jupyter.widget-view+json": {
       "model_id": "1e8cb7e06cf841c591909f49765ad19f",
       "version_major": 2,
       "version_minor": 0
      },
      "text/plain": [
       "tokenizer.json:   0%|          | 0.00/466k [00:00<?, ?B/s]"
      ]
     },
     "metadata": {},
     "output_type": "display_data"
    },
    {
     "data": {
      "application/vnd.jupyter.widget-view+json": {
       "model_id": "71130faebd4048ea9fdb2930df14c16a",
       "version_major": 2,
       "version_minor": 0
      },
      "text/plain": [
       "Map:   0%|          | 0/549367 [00:00<?, ? examples/s]"
      ]
     },
     "metadata": {},
     "output_type": "display_data"
    },
    {
     "data": {
      "application/vnd.jupyter.widget-view+json": {
       "model_id": "f0afd9ab5548409da6c560b28be81862",
       "version_major": 2,
       "version_minor": 0
      },
      "text/plain": [
       "Map:   0%|          | 0/9842 [00:00<?, ? examples/s]"
      ]
     },
     "metadata": {},
     "output_type": "display_data"
    },
    {
     "data": {
      "application/vnd.jupyter.widget-view+json": {
       "model_id": "0da6477d3b37437faa0a138a45daa742",
       "version_major": 2,
       "version_minor": 0
      },
      "text/plain": [
       "Map:   0%|          | 0/9824 [00:00<?, ? examples/s]"
      ]
     },
     "metadata": {},
     "output_type": "display_data"
    }
   ],
   "source": [
    "from datasets import Dataset\n",
    "from transformers import AutoTokenizer\n",
    "\n",
    "\n",
    "\n",
    "train_dataset = Dataset.from_pandas(train_df[['premise', 'hypothesis', 'label']])\n",
    "val_dataset = Dataset.from_pandas(val_df[['premise', 'hypothesis', 'label']])\n",
    "test_dataset = Dataset.from_pandas(test_df[['premise', 'hypothesis', 'label']])\n",
    "\n",
    "MODEL_NAME = \"bert-base-uncased\"\n",
    "\n",
    "tokenizer = AutoTokenizer.from_pretrained(MODEL_NAME)\n",
    "\n",
    "def tokenize_function(example):\n",
    "    return tokenizer(example[\"premise\"], example[\"hypothesis\"], truncation=True, padding=\"max_length\")\n",
    "\n",
    "train_dataset = train_dataset.map(tokenize_function, batched=True)\n",
    "val_dataset = val_dataset.map(tokenize_function, batched=True)\n",
    "test_dataset = test_dataset.map(tokenize_function, batched=True)\n",
    "\n",
    "train_dataset.set_format(type=\"torch\", columns=[\"input_ids\", \"attention_mask\", \"label\"])\n",
    "val_dataset.set_format(type=\"torch\", columns=[\"input_ids\", \"attention_mask\", \"label\"])\n",
    "test_dataset.set_format(type=\"torch\", columns=[\"input_ids\", \"attention_mask\", \"label\"])\n",
    "\n"
   ]
  },
  {
   "cell_type": "markdown",
   "metadata": {},
   "source": [
    "## 4. Tuning the hyperparameters using a Hybrid approach of sequential tuning and BOHB"
   ]
  },
  {
   "cell_type": "code",
   "execution_count": null,
   "metadata": {
    "execution": {
     "iopub.execute_input": "2025-04-01T17:24:49.687499Z",
     "iopub.status.busy": "2025-04-01T17:24:49.687153Z",
     "iopub.status.idle": "2025-04-01T18:55:53.030939Z",
     "shell.execute_reply": "2025-04-01T18:55:53.029994Z",
     "shell.execute_reply.started": "2025-04-01T17:24:49.687477Z"
    },
    "trusted": true
   },
   "outputs": [
    {
     "name": "stdout",
     "output_type": "stream",
     "text": [
      "============================================================\n",
      "🔄 Starting hybrid hyperparameter tuning\n",
      "============================================================\n",
      "============================================================\n",
      "🔍 Phase 1: Sequential exploration\n",
      "============================================================\n",
      "GPU memory - Allocated: 0.00 MB, Reserved: 0.00 MB\n",
      "GPU memory - Allocated: 0.00 MB, Reserved: 0.00 MB\n",
      "\n",
      "🔄 Sequential Trial 1/3\n",
      "Parameters: {'learning_rate': 5e-05, 'batch_size': 32, 'num_epochs': 1, 'weight_decay': 0.01}\n",
      "Using 27468 examples (5.0% of data)\n"
     ]
    },
    {
     "data": {
      "application/vnd.jupyter.widget-view+json": {
       "model_id": "be7964e613844f649717007a8b8156d3",
       "version_major": 2,
       "version_minor": 0
      },
      "text/plain": [
       "model.safetensors:   0%|          | 0.00/440M [00:00<?, ?B/s]"
      ]
     },
     "metadata": {},
     "output_type": "display_data"
    },
    {
     "name": "stderr",
     "output_type": "stream",
     "text": [
      "Some weights of BertForSequenceClassification were not initialized from the model checkpoint at bert-base-uncased and are newly initialized: ['classifier.bias', 'classifier.weight']\n",
      "You should probably TRAIN this model on a down-stream task to be able to use it for predictions and inference.\n"
     ]
    },
    {
     "name": "stdout",
     "output_type": "stream",
     "text": [
      "Model on CUDA: True\n"
     ]
    },
    {
     "name": "stderr",
     "output_type": "stream",
     "text": [
      "/usr/local/lib/python3.10/dist-packages/transformers/training_args.py:1575: FutureWarning: `evaluation_strategy` is deprecated and will be removed in version 4.46 of 🤗 Transformers. Use `eval_strategy` instead\n",
      "  warnings.warn(\n",
      "<ipython-input-4-6eee85b208c8>:114: FutureWarning: `tokenizer` is deprecated and will be removed in version 5.0.0 for `Trainer.__init__`. Use `processing_class` instead.\n",
      "  trainer = Trainer(\n",
      "/usr/local/lib/python3.10/dist-packages/torch/nn/parallel/_functions.py:71: UserWarning: Was asked to gather along dimension 0, but all input tensors were scalars; will instead unsqueeze and return a vector.\n",
      "  warnings.warn(\n"
     ]
    },
    {
     "data": {
      "text/html": [
       "\n",
       "    <div>\n",
       "      \n",
       "      <progress value='430' max='430' style='width:300px; height:20px; vertical-align: middle;'></progress>\n",
       "      [430/430 26:54, Epoch 1/1]\n",
       "    </div>\n",
       "    <table border=\"1\" class=\"dataframe\">\n",
       "  <thead>\n",
       " <tr style=\"text-align: left;\">\n",
       "      <th>Epoch</th>\n",
       "      <th>Training Loss</th>\n",
       "      <th>Validation Loss</th>\n",
       "      <th>Accuracy</th>\n",
       "    </tr>\n",
       "  </thead>\n",
       "  <tbody>\n",
       "    <tr>\n",
       "      <td>1</td>\n",
       "      <td>0.639000</td>\n",
       "      <td>0.571431</td>\n",
       "      <td>0.770575</td>\n",
       "    </tr>\n",
       "  </tbody>\n",
       "</table><p>"
      ],
      "text/plain": [
       "<IPython.core.display.HTML object>"
      ]
     },
     "metadata": {},
     "output_type": "display_data"
    },
    {
     "name": "stderr",
     "output_type": "stream",
     "text": [
      "/usr/local/lib/python3.10/dist-packages/torch/nn/parallel/_functions.py:71: UserWarning: Was asked to gather along dimension 0, but all input tensors were scalars; will instead unsqueeze and return a vector.\n",
      "  warnings.warn(\n"
     ]
    },
    {
     "data": {
      "text/html": [
       "\n",
       "    <div>\n",
       "      \n",
       "      <progress value='154' max='154' style='width:300px; height:20px; vertical-align: middle;'></progress>\n",
       "      [154/154 03:03]\n",
       "    </div>\n",
       "    "
      ],
      "text/plain": [
       "<IPython.core.display.HTML object>"
      ]
     },
     "metadata": {},
     "output_type": "display_data"
    },
    {
     "name": "stdout",
     "output_type": "stream",
     "text": [
      "Accuracy: 0.7706, Time: 1619.0s\n",
      "GPU memory - Allocated: 1298.25 MB, Reserved: 1824.00 MB\n"
     ]
    },
    {
     "name": "stderr",
     "output_type": "stream",
     "text": [
      "Some weights of BertForSequenceClassification were not initialized from the model checkpoint at bert-base-uncased and are newly initialized: ['classifier.bias', 'classifier.weight']\n",
      "You should probably TRAIN this model on a down-stream task to be able to use it for predictions and inference.\n"
     ]
    },
    {
     "name": "stdout",
     "output_type": "stream",
     "text": [
      "GPU memory - Allocated: 1298.25 MB, Reserved: 1824.00 MB\n",
      "\n",
      "🔄 Sequential Trial 2/3\n",
      "Parameters: {'learning_rate': 1e-05, 'batch_size': 32, 'num_epochs': 1, 'weight_decay': 0.01}\n",
      "Using 27468 examples (5.0% of data)\n"
     ]
    },
    {
     "name": "stderr",
     "output_type": "stream",
     "text": [
      "/usr/local/lib/python3.10/dist-packages/transformers/training_args.py:1575: FutureWarning: `evaluation_strategy` is deprecated and will be removed in version 4.46 of 🤗 Transformers. Use `eval_strategy` instead\n",
      "  warnings.warn(\n"
     ]
    },
    {
     "name": "stdout",
     "output_type": "stream",
     "text": [
      "Model on CUDA: True\n"
     ]
    },
    {
     "name": "stderr",
     "output_type": "stream",
     "text": [
      "<ipython-input-4-6eee85b208c8>:114: FutureWarning: `tokenizer` is deprecated and will be removed in version 5.0.0 for `Trainer.__init__`. Use `processing_class` instead.\n",
      "  trainer = Trainer(\n",
      "/usr/local/lib/python3.10/dist-packages/torch/nn/parallel/_functions.py:71: UserWarning: Was asked to gather along dimension 0, but all input tensors were scalars; will instead unsqueeze and return a vector.\n",
      "  warnings.warn(\n"
     ]
    },
    {
     "data": {
      "text/html": [
       "\n",
       "    <div>\n",
       "      \n",
       "      <progress value='430' max='430' style='width:300px; height:20px; vertical-align: middle;'></progress>\n",
       "      [430/430 27:06, Epoch 1/1]\n",
       "    </div>\n",
       "    <table border=\"1\" class=\"dataframe\">\n",
       "  <thead>\n",
       " <tr style=\"text-align: left;\">\n",
       "      <th>Epoch</th>\n",
       "      <th>Training Loss</th>\n",
       "      <th>Validation Loss</th>\n",
       "      <th>Accuracy</th>\n",
       "    </tr>\n",
       "  </thead>\n",
       "  <tbody>\n",
       "    <tr>\n",
       "      <td>1</td>\n",
       "      <td>0.784700</td>\n",
       "      <td>0.710808</td>\n",
       "      <td>0.701890</td>\n",
       "    </tr>\n",
       "  </tbody>\n",
       "</table><p>"
      ],
      "text/plain": [
       "<IPython.core.display.HTML object>"
      ]
     },
     "metadata": {},
     "output_type": "display_data"
    },
    {
     "name": "stderr",
     "output_type": "stream",
     "text": [
      "/usr/local/lib/python3.10/dist-packages/torch/nn/parallel/_functions.py:71: UserWarning: Was asked to gather along dimension 0, but all input tensors were scalars; will instead unsqueeze and return a vector.\n",
      "  warnings.warn(\n"
     ]
    },
    {
     "data": {
      "text/html": [
       "\n",
       "    <div>\n",
       "      \n",
       "      <progress value='154' max='154' style='width:300px; height:20px; vertical-align: middle;'></progress>\n",
       "      [154/154 03:03]\n",
       "    </div>\n",
       "    "
      ],
      "text/plain": [
       "<IPython.core.display.HTML object>"
      ]
     },
     "metadata": {},
     "output_type": "display_data"
    },
    {
     "name": "stdout",
     "output_type": "stream",
     "text": [
      "Accuracy: 0.7019, Time: 1630.6s\n",
      "GPU memory - Allocated: 1297.30 MB, Reserved: 2180.00 MB\n"
     ]
    },
    {
     "name": "stderr",
     "output_type": "stream",
     "text": [
      "Some weights of BertForSequenceClassification were not initialized from the model checkpoint at bert-base-uncased and are newly initialized: ['classifier.bias', 'classifier.weight']\n",
      "You should probably TRAIN this model on a down-stream task to be able to use it for predictions and inference.\n"
     ]
    },
    {
     "name": "stdout",
     "output_type": "stream",
     "text": [
      "GPU memory - Allocated: 1297.30 MB, Reserved: 2180.00 MB\n",
      "\n",
      "🔄 Sequential Trial 3/3\n",
      "Parameters: {'learning_rate': 3e-05, 'batch_size': 64, 'num_epochs': 1, 'weight_decay': 0.01}\n",
      "Using 27468 examples (5.0% of data)\n"
     ]
    },
    {
     "name": "stderr",
     "output_type": "stream",
     "text": [
      "/usr/local/lib/python3.10/dist-packages/transformers/training_args.py:1575: FutureWarning: `evaluation_strategy` is deprecated and will be removed in version 4.46 of 🤗 Transformers. Use `eval_strategy` instead\n",
      "  warnings.warn(\n",
      "<ipython-input-4-6eee85b208c8>:114: FutureWarning: `tokenizer` is deprecated and will be removed in version 5.0.0 for `Trainer.__init__`. Use `processing_class` instead.\n",
      "  trainer = Trainer(\n"
     ]
    },
    {
     "name": "stdout",
     "output_type": "stream",
     "text": [
      "Model on CUDA: True\n",
      "❌ Error in trial 2: Caught OutOfMemoryError in replica 0 on device 0.\n",
      "Original Traceback (most recent call last):\n",
      "  File \"/usr/local/lib/python3.10/dist-packages/torch/nn/parallel/parallel_apply.py\", line 96, in _worker\n",
      "    output = module(*input, **kwargs)\n",
      "  File \"/usr/local/lib/python3.10/dist-packages/torch/nn/modules/module.py\", line 1736, in _wrapped_call_impl\n",
      "    return self._call_impl(*args, **kwargs)\n",
      "  File \"/usr/local/lib/python3.10/dist-packages/torch/nn/modules/module.py\", line 1747, in _call_impl\n",
      "    return forward_call(*args, **kwargs)\n",
      "  File \"/usr/local/lib/python3.10/dist-packages/transformers/models/bert/modeling_bert.py\", line 1668, in forward\n",
      "    outputs = self.bert(\n",
      "  File \"/usr/local/lib/python3.10/dist-packages/torch/nn/modules/module.py\", line 1736, in _wrapped_call_impl\n",
      "    return self._call_impl(*args, **kwargs)\n",
      "  File \"/usr/local/lib/python3.10/dist-packages/torch/nn/modules/module.py\", line 1747, in _call_impl\n",
      "    return forward_call(*args, **kwargs)\n",
      "  File \"/usr/local/lib/python3.10/dist-packages/transformers/models/bert/modeling_bert.py\", line 1142, in forward\n",
      "    encoder_outputs = self.encoder(\n",
      "  File \"/usr/local/lib/python3.10/dist-packages/torch/nn/modules/module.py\", line 1736, in _wrapped_call_impl\n",
      "    return self._call_impl(*args, **kwargs)\n",
      "  File \"/usr/local/lib/python3.10/dist-packages/torch/nn/modules/module.py\", line 1747, in _call_impl\n",
      "    return forward_call(*args, **kwargs)\n",
      "  File \"/usr/local/lib/python3.10/dist-packages/transformers/models/bert/modeling_bert.py\", line 695, in forward\n",
      "    layer_outputs = layer_module(\n",
      "  File \"/usr/local/lib/python3.10/dist-packages/torch/nn/modules/module.py\", line 1736, in _wrapped_call_impl\n",
      "    return self._call_impl(*args, **kwargs)\n",
      "  File \"/usr/local/lib/python3.10/dist-packages/torch/nn/modules/module.py\", line 1747, in _call_impl\n",
      "    return forward_call(*args, **kwargs)\n",
      "  File \"/usr/local/lib/python3.10/dist-packages/transformers/models/bert/modeling_bert.py\", line 585, in forward\n",
      "    self_attention_outputs = self.attention(\n",
      "  File \"/usr/local/lib/python3.10/dist-packages/torch/nn/modules/module.py\", line 1736, in _wrapped_call_impl\n",
      "    return self._call_impl(*args, **kwargs)\n",
      "  File \"/usr/local/lib/python3.10/dist-packages/torch/nn/modules/module.py\", line 1747, in _call_impl\n",
      "    return forward_call(*args, **kwargs)\n",
      "  File \"/usr/local/lib/python3.10/dist-packages/transformers/models/bert/modeling_bert.py\", line 515, in forward\n",
      "    self_outputs = self.self(\n",
      "  File \"/usr/local/lib/python3.10/dist-packages/torch/nn/modules/module.py\", line 1736, in _wrapped_call_impl\n",
      "    return self._call_impl(*args, **kwargs)\n",
      "  File \"/usr/local/lib/python3.10/dist-packages/torch/nn/modules/module.py\", line 1747, in _call_impl\n",
      "    return forward_call(*args, **kwargs)\n",
      "  File \"/usr/local/lib/python3.10/dist-packages/transformers/models/bert/modeling_bert.py\", line 408, in forward\n",
      "    key_layer = self.transpose_for_scores(self.key(current_states))\n",
      "  File \"/usr/local/lib/python3.10/dist-packages/torch/nn/modules/module.py\", line 1736, in _wrapped_call_impl\n",
      "    return self._call_impl(*args, **kwargs)\n",
      "  File \"/usr/local/lib/python3.10/dist-packages/torch/nn/modules/module.py\", line 1747, in _call_impl\n",
      "    return forward_call(*args, **kwargs)\n",
      "  File \"/usr/local/lib/python3.10/dist-packages/torch/nn/modules/linear.py\", line 125, in forward\n",
      "    return F.linear(input, self.weight, self.bias)\n",
      "torch.OutOfMemoryError: CUDA out of memory. Tried to allocate 96.00 MiB. GPU 0 has a total capacity of 14.74 GiB of which 36.12 MiB is free. Process 3488 has 14.70 GiB memory in use. Of the allocated memory 14.44 GiB is allocated by PyTorch, and 67.03 MiB is reserved by PyTorch but unallocated. If reserved but unallocated memory is large try setting PYTORCH_CUDA_ALLOC_CONF=expandable_segments:True to avoid fragmentation.  See documentation for Memory Management  (https://pytorch.org/docs/stable/notes/cuda.html#environment-variables)\n",
      "\n",
      "GPU memory - Allocated: 441.25 MB, Reserved: 1148.00 MB\n"
     ]
    },
    {
     "name": "stderr",
     "output_type": "stream",
     "text": [
      "[I 2025-04-01 18:25:35,500] A new study created in memory with name: bohb_refined_optimization\n"
     ]
    },
    {
     "name": "stdout",
     "output_type": "stream",
     "text": [
      "\n",
      "=== Sequential Phase Results ===\n",
      "1. Accuracy: 0.7706, LR: 5e-05, BS: 32\n",
      "2. Accuracy: 0.7019, LR: 1e-05, BS: 32\n",
      "============================================================\n",
      "🚀 Phase 2: BOHB optimization with refined parameter ranges\n",
      "============================================================\n",
      "Learning rate range: 0.000010 to 0.000050\n",
      "Batch sizes: [32]\n",
      "Weight decay range: 0.0000 to 0.1000\n",
      "GPU memory - Allocated: 16.40 MB, Reserved: 68.00 MB\n",
      "\n",
      "🎯 Starting BOHB Trial #0\n",
      "📊 Sampled 27468 examples (5.0% of dataset)\n"
     ]
    },
    {
     "name": "stderr",
     "output_type": "stream",
     "text": [
      "/usr/local/lib/python3.10/dist-packages/transformers/training_args.py:1575: FutureWarning: `evaluation_strategy` is deprecated and will be removed in version 4.46 of 🤗 Transformers. Use `eval_strategy` instead\n",
      "  warnings.warn(\n",
      "Some weights of BertForSequenceClassification were not initialized from the model checkpoint at bert-base-uncased and are newly initialized: ['classifier.bias', 'classifier.weight']\n",
      "You should probably TRAIN this model on a down-stream task to be able to use it for predictions and inference.\n",
      "<ipython-input-4-6eee85b208c8>:261: FutureWarning: `tokenizer` is deprecated and will be removed in version 5.0.0 for `Trainer.__init__`. Use `processing_class` instead.\n",
      "  trainer = Trainer(\n",
      "/usr/local/lib/python3.10/dist-packages/torch/nn/parallel/_functions.py:71: UserWarning: Was asked to gather along dimension 0, but all input tensors were scalars; will instead unsqueeze and return a vector.\n",
      "  warnings.warn(\n"
     ]
    },
    {
     "data": {
      "text/html": [
       "\n",
       "    <div>\n",
       "      \n",
       "      <progress value='430' max='430' style='width:300px; height:20px; vertical-align: middle;'></progress>\n",
       "      [430/430 27:07, Epoch 1/1]\n",
       "    </div>\n",
       "    <table border=\"1\" class=\"dataframe\">\n",
       "  <thead>\n",
       " <tr style=\"text-align: left;\">\n",
       "      <th>Epoch</th>\n",
       "      <th>Training Loss</th>\n",
       "      <th>Validation Loss</th>\n",
       "      <th>Accuracy</th>\n",
       "      <th>F1 Macro</th>\n",
       "    </tr>\n",
       "  </thead>\n",
       "  <tbody>\n",
       "    <tr>\n",
       "      <td>1</td>\n",
       "      <td>No log</td>\n",
       "      <td>0.609629</td>\n",
       "      <td>0.752794</td>\n",
       "      <td>0.751901</td>\n",
       "    </tr>\n",
       "  </tbody>\n",
       "</table><p>"
      ],
      "text/plain": [
       "<IPython.core.display.HTML object>"
      ]
     },
     "metadata": {},
     "output_type": "display_data"
    },
    {
     "name": "stdout",
     "output_type": "stream",
     "text": [
      "✅ Training completed in 1631.06 seconds\n"
     ]
    },
    {
     "name": "stderr",
     "output_type": "stream",
     "text": [
      "/usr/local/lib/python3.10/dist-packages/torch/nn/parallel/_functions.py:71: UserWarning: Was asked to gather along dimension 0, but all input tensors were scalars; will instead unsqueeze and return a vector.\n",
      "  warnings.warn(\n"
     ]
    },
    {
     "data": {
      "text/html": [
       "\n",
       "    <div>\n",
       "      \n",
       "      <progress value='154' max='154' style='width:300px; height:20px; vertical-align: middle;'></progress>\n",
       "      [154/154 03:03]\n",
       "    </div>\n",
       "    "
      ],
      "text/plain": [
       "<IPython.core.display.HTML object>"
      ]
     },
     "metadata": {},
     "output_type": "display_data"
    },
    {
     "name": "stderr",
     "output_type": "stream",
     "text": [
      "[I 2025-04-01 18:55:53,023] Trial 0 finished with value: 0.7527941475309896 and parameters: {'learning_rate': 1.827226177606625e-05, 'batch_size': 32, 'weight_decay': 0.09507143064099162}. Best is trial 0 with value: 0.7527941475309896.\n"
     ]
    },
    {
     "name": "stdout",
     "output_type": "stream",
     "text": [
      "GPU memory - Allocated: 1299.63 MB, Reserved: 1832.00 MB\n",
      "\n",
      "🎯 BOHB Phase Best Trial\n",
      "Trial #0\n",
      "Accuracy: 0.7528\n",
      "Best Hyperparameters:\n",
      "  learning_rate: 1.827226177606625e-05\n",
      "  batch_size: 32\n",
      "  weight_decay: 0.09507143064099162\n",
      "⏱️ Optimization Time: 1817.52 seconds\n",
      "\n",
      "=== Final Hyperparameter Tuning Results ===\n",
      "Best parameters: {'learning_rate': 1.827226177606625e-05, 'batch_size': 32, 'weight_decay': 0.09507143064099162, 'num_epochs': 2}\n",
      "\n",
      "Final best parameters to use for full model training:\n",
      "  learning_rate: 1.827226177606625e-05\n",
      "  batch_size: 32\n",
      "  weight_decay: 0.09507143064099162\n",
      "  num_epochs: 2\n"
     ]
    }
   ],
   "source": [
    "import os\n",
    "import numpy as np\n",
    "import torch\n",
    "import gc\n",
    "import time\n",
    "from transformers import AutoModelForSequenceClassification, Trainer, TrainingArguments\n",
    "from sklearn.metrics import accuracy_score, f1_score\n",
    "from functools import partial\n",
    "import optuna\n",
    "from optuna.pruners import HyperbandPruner\n",
    "from optuna.samplers import TPESampler\n",
    "\n",
    "def force_gpu_cleanup():\n",
    "    \"\"\"Force aggressive GPU memory cleanup\"\"\"\n",
    "    if torch.cuda.is_available():\n",
    "        torch.cuda.empty_cache()\n",
    "        gc.collect()\n",
    "        \n",
    "        # Print memory stats for monitoring\n",
    "        allocated = torch.cuda.memory_allocated() / (1024 ** 2)\n",
    "        reserved = torch.cuda.memory_reserved() / (1024 ** 2)\n",
    "        print(f\"GPU memory - Allocated: {allocated:.2f} MB, Reserved: {reserved:.2f} MB\")\n",
    "\n",
    "def run_sequential_phase(train_dataset, val_dataset, tokenizer, id2label, label2id, n_trials=3): \n",
    "    \"\"\"\n",
    "    Run initial sequential hyperparameter exploration to find stable, promising regions\n",
    "    \"\"\"\n",
    "    print(\"=\" * 60)\n",
    "    print(\"🔍 Phase 1: Sequential exploration\")\n",
    "    print(\"=\" * 60)\n",
    "    \n",
    "    # Force GPU cleanup\n",
    "    force_gpu_cleanup()\n",
    "    \n",
    "    \n",
    "    lr_options = [1e-5, 3e-5, 5e-5]\n",
    "    batch_options = [16, 32, 64]\n",
    "    epochs_options = [1, 2]\n",
    "    wd_options = [0.0, 0.01, 0.1]\n",
    "    \n",
    "    # Create parameter combinations\n",
    "    params_list = []\n",
    "    for lr in lr_options:\n",
    "        for bs in batch_options:\n",
    "            \n",
    "            params_list.append({\n",
    "                \"learning_rate\": lr,\n",
    "                \"batch_size\": bs,\n",
    "                \"num_epochs\": 1,\n",
    "                \"weight_decay\": 0.01\n",
    "            })\n",
    "    \n",
    "    \n",
    "    np.random.seed(42)\n",
    "    if len(params_list) > n_trials:\n",
    "        params_list = list(np.random.choice(params_list, n_trials, replace=False))\n",
    "    \n",
    "    # Track results\n",
    "    results = []\n",
    "    \n",
    "    # Run each trial sequentially\n",
    "    for trial_idx, params in enumerate(params_list):\n",
    "        \n",
    "        force_gpu_cleanup()\n",
    "        \n",
    "        print(f\"\\n🔄 Sequential Trial {trial_idx+1}/{len(params_list)}\")\n",
    "        print(f\"Parameters: {params}\")\n",
    "        \n",
    "        # Small sample for quick exploration (5%)\n",
    "        sample_ratio = 0.05\n",
    "        sample_size = int(len(train_dataset) * sample_ratio)\n",
    "        indices = np.random.choice(len(train_dataset), sample_size, replace=False)\n",
    "        train_subset = train_dataset.select(indices)\n",
    "        print(f\"Using {len(train_subset)} examples ({sample_ratio*100:.1f}% of data)\")\n",
    "        \n",
    "        try:\n",
    "            # Create model\n",
    "            model = AutoModelForSequenceClassification.from_pretrained(\n",
    "                \"bert-base-uncased\",  \n",
    "                num_labels=len(id2label),\n",
    "                id2label=id2label,\n",
    "                label2id=label2id\n",
    "            )\n",
    "            \n",
    "            # Move to GPU\n",
    "            if torch.cuda.is_available():\n",
    "                model = model.cuda()\n",
    "                print(f\"Model on CUDA: {next(model.parameters()).is_cuda}\")\n",
    "            \n",
    "            # Define metric\n",
    "            def compute_metrics(eval_pred):\n",
    "                logits, labels = eval_pred\n",
    "                preds = np.argmax(logits, axis=-1)\n",
    "                acc = accuracy_score(labels, preds)\n",
    "                return {\"accuracy\": acc}\n",
    "            \n",
    "            # Training args\n",
    "            training_args = TrainingArguments(\n",
    "                output_dir=f\"/content/seq_trial_{trial_idx}\",\n",
    "                evaluation_strategy=\"epoch\",\n",
    "                save_strategy=\"no\",\n",
    "                num_train_epochs=params[\"num_epochs\"],\n",
    "                per_device_train_batch_size=params[\"batch_size\"],\n",
    "                per_device_eval_batch_size=params[\"batch_size\"],\n",
    "                learning_rate=params[\"learning_rate\"],\n",
    "                weight_decay=params[\"weight_decay\"],\n",
    "                report_to=\"none\",\n",
    "                fp16=False,  # Disable mixed precision for stability\n",
    "                dataloader_num_workers=0,\n",
    "                logging_steps=100\n",
    "            )\n",
    "            \n",
    "            # Create trainer\n",
    "            trainer = Trainer(\n",
    "                model=model,\n",
    "                args=training_args,\n",
    "                tokenizer=tokenizer,\n",
    "                train_dataset=train_subset,\n",
    "                eval_dataset=val_dataset,\n",
    "                compute_metrics=compute_metrics\n",
    "            )\n",
    "            \n",
    "            # Train\n",
    "            start_time = time.time()\n",
    "            trainer.train()\n",
    "            train_time = time.time() - start_time\n",
    "            \n",
    "            # Evaluate\n",
    "            eval_result = trainer.evaluate()\n",
    "            accuracy = eval_result[\"eval_accuracy\"]\n",
    "            \n",
    "            print(f\"Accuracy: {accuracy:.4f}, Time: {train_time:.1f}s\")\n",
    "            \n",
    "            # Store result\n",
    "            results.append({\n",
    "                \"params\": params,\n",
    "                \"accuracy\": accuracy,\n",
    "                \"time\": train_time\n",
    "            })\n",
    "            \n",
    "        except Exception as e:\n",
    "            print(f\"❌ Error in trial {trial_idx}: {str(e)}\")\n",
    "        finally:\n",
    "            # Clean up\n",
    "            if 'model' in locals():\n",
    "                del model\n",
    "            if 'trainer' in locals():\n",
    "                del trainer\n",
    "            force_gpu_cleanup()\n",
    "            time.sleep(1)  \n",
    "    \n",
    "    # Sort results by accuracy\n",
    "    results.sort(key=lambda x: x[\"accuracy\"], reverse=True)\n",
    "    \n",
    "    print(\"\\n=== Sequential Phase Results ===\")\n",
    "    for i, result in enumerate(results):\n",
    "        print(f\"{i+1}. Accuracy: {result['accuracy']:.4f}, LR: {result['params']['learning_rate']}, BS: {result['params']['batch_size']}\")\n",
    "    \n",
    "    # Extract best parameter ranges for BOHB\n",
    "    if len(results) > 0:\n",
    "        # Get the top half of results or at least 2\n",
    "        top_count = max(len(results) // 2, min(2, len(results)))\n",
    "        top_results = results[:top_count]\n",
    "        \n",
    "        # Extract parameter ranges\n",
    "        lr_values = [r[\"params\"][\"learning_rate\"] for r in top_results]\n",
    "        bs_values = [r[\"params\"][\"batch_size\"] for r in top_results]\n",
    "        \n",
    "        # Determine ranges\n",
    "        lr_low, lr_high = min(lr_values), max(lr_values)\n",
    "        bs_options = list(set(bs_values))  # Unique batch sizes\n",
    "        \n",
    "        # If all same value, expand slightly\n",
    "        if lr_low == lr_high:\n",
    "            lr_low = lr_low * 0.8\n",
    "            lr_high = lr_high * 1.2\n",
    "            \n",
    "        bohb_ranges = {\n",
    "            \"lr_range\": (lr_low, lr_high),\n",
    "            \"batch_sizes\": bs_options,\n",
    "            \"weight_decay_range\": (0.0, 0.1)\n",
    "        }\n",
    "        \n",
    "        return bohb_ranges, results\n",
    "    else:\n",
    "        # Default ranges if no successful trials\n",
    "        return {\n",
    "            \"lr_range\": (1e-5, 5e-5),\n",
    "            \"batch_sizes\": [16, 32],\n",
    "            \"weight_decay_range\": (0.0, 0.1)\n",
    "        }, []\n",
    "\n",
    "def bohb_objective(trial, train_dataset, val_dataset, tokenizer, id2label, label2id, param_ranges):\n",
    "    \"\"\"Objective function for BOHB optimization with refined parameter ranges\"\"\"\n",
    "    # Force GPU cleanup\n",
    "    force_gpu_cleanup()\n",
    "    \n",
    "    print(f\"\\n🎯 Starting BOHB Trial #{trial.number}\")\n",
    "    \n",
    "    # Get parameter ranges from sequential phase\n",
    "    lr_range = param_ranges[\"lr_range\"]\n",
    "    batch_sizes = param_ranges[\"batch_sizes\"]\n",
    "    wd_range = param_ranges[\"weight_decay_range\"]\n",
    "    \n",
    "    # Suggest hyperparameters within refined ranges\n",
    "    learning_rate = trial.suggest_float(\"learning_rate\", lr_range[0], lr_range[1], log=True)\n",
    "    batch_size = trial.suggest_categorical(\"batch_size\", batch_sizes)\n",
    "    num_epochs = 1  # Fixed to 1 epoch for all BOHB trials\n",
    "    weight_decay = trial.suggest_float(\"weight_decay\", wd_range[0], wd_range[1])\n",
    "    \n",
    "    # Progressive sampling\n",
    "    if trial.number < 2:\n",
    "        sample_ratio = 0.05  # 5% for first 2 trials\n",
    "    else:\n",
    "        sample_ratio = 0.10  # 10% for remaining trials\n",
    "    \n",
    "    train_subset_size = int(sample_ratio * len(train_dataset))\n",
    "    \n",
    "    # Simple random sampling\n",
    "    indices = np.random.choice(len(train_dataset), train_subset_size, replace=False)\n",
    "    train_subset = train_dataset.select(indices)\n",
    "    print(f\"📊 Sampled {len(train_subset)} examples ({sample_ratio*100:.1f}% of dataset)\")\n",
    "    \n",
    "    # Define metrics function\n",
    "    def compute_metrics(eval_pred):\n",
    "        logits, labels = eval_pred\n",
    "        preds = np.argmax(logits, axis=-1)\n",
    "        acc = accuracy_score(labels, preds)\n",
    "        f1 = f1_score(labels, preds, average=\"macro\")\n",
    "        return {\"accuracy\": acc, \"f1_macro\": f1}\n",
    "    \n",
    "    # Training arguments\n",
    "    training_args = TrainingArguments(\n",
    "        output_dir=f\"/content/bohb_trial_{trial.number}\",\n",
    "        evaluation_strategy=\"epoch\",\n",
    "        save_strategy=\"no\",\n",
    "        num_train_epochs=num_epochs,\n",
    "        per_device_train_batch_size=batch_size,\n",
    "        per_device_eval_batch_size=batch_size,\n",
    "        learning_rate=learning_rate,\n",
    "        weight_decay=weight_decay,\n",
    "        report_to=\"none\",\n",
    "        fp16=False, \n",
    "        dataloader_num_workers=0,\n",
    "        dataloader_pin_memory=True\n",
    "    )\n",
    "    \n",
    "    try:\n",
    "        # Create model\n",
    "        model = AutoModelForSequenceClassification.from_pretrained(\n",
    "            \"bert-base-uncased\",  \n",
    "            num_labels=len(id2label),\n",
    "            id2label=id2label,\n",
    "            label2id=label2id\n",
    "        )\n",
    "        \n",
    "        # Move to GPU\n",
    "        if torch.cuda.is_available():\n",
    "            model = model.cuda()\n",
    "        \n",
    "        trainer = Trainer(\n",
    "            model=model,\n",
    "            args=training_args,\n",
    "            tokenizer=tokenizer,\n",
    "            train_dataset=train_subset,\n",
    "            eval_dataset=val_dataset,\n",
    "            compute_metrics=compute_metrics\n",
    "        )\n",
    "        \n",
    "        # Train\n",
    "        start_time = time.time()\n",
    "        trainer.train()\n",
    "        train_time = time.time() - start_time\n",
    "        print(f\"✅ Training completed in {train_time:.2f} seconds\")\n",
    "        \n",
    "        # Evaluate\n",
    "        metrics = trainer.evaluate()\n",
    "        acc = metrics[\"eval_accuracy\"]\n",
    "        \n",
    "        # Report accuracy for pruning\n",
    "        trial.report(acc, step=num_epochs)\n",
    "        if trial.should_prune():\n",
    "            raise optuna.exceptions.TrialPruned()\n",
    "        \n",
    "        return acc\n",
    "        \n",
    "    except optuna.exceptions.TrialPruned:\n",
    "        print(f\"Trial #{trial.number} pruned.\")\n",
    "        raise\n",
    "    except Exception as e:\n",
    "        print(f\"❌ BOHB Trial {trial.number} failed: {str(e)}\")\n",
    "        raise e\n",
    "    finally:\n",
    "        # Clean up\n",
    "        if 'model' in locals():\n",
    "            del model\n",
    "        if 'trainer' in locals():\n",
    "            del trainer\n",
    "        force_gpu_cleanup()\n",
    "\n",
    "def run_bohb_phase(train_dataset, val_dataset, tokenizer, id2label, label2id, param_ranges, n_trials=4): \n",
    "    \"\"\"Run BOHB phase with refined parameter ranges\"\"\"\n",
    "    print(\"=\" * 60)\n",
    "    print(\"🚀 Phase 2: BOHB optimization with refined parameter ranges\")\n",
    "    print(\"=\" * 60)\n",
    "    \n",
    "    # Print refined ranges\n",
    "    print(f\"Learning rate range: {param_ranges['lr_range'][0]:.6f} to {param_ranges['lr_range'][1]:.6f}\")\n",
    "    print(f\"Batch sizes: {param_ranges['batch_sizes']}\")\n",
    "    print(f\"Weight decay range: {param_ranges['weight_decay_range'][0]:.4f} to {param_ranges['weight_decay_range'][1]:.4f}\")\n",
    "    \n",
    "    # Setup pruner and sampler\n",
    "    pruner = HyperbandPruner(min_resource=1, max_resource=1, reduction_factor=3)  \n",
    "    sampler = TPESampler(n_startup_trials=1, seed=42)\n",
    "    \n",
    "    # Create study\n",
    "    study = optuna.create_study(\n",
    "        direction=\"maximize\",\n",
    "        sampler=sampler,\n",
    "        pruner=pruner,\n",
    "        study_name=\"bohb_refined_optimization\"\n",
    "    )\n",
    "    \n",
    "    # Create objective function with parameter ranges\n",
    "    objective_func = partial(\n",
    "        bohb_objective,\n",
    "        train_dataset=train_dataset,\n",
    "        val_dataset=val_dataset,\n",
    "        tokenizer=tokenizer,\n",
    "        id2label=id2label,\n",
    "        label2id=label2id,\n",
    "        param_ranges=param_ranges\n",
    "    )\n",
    "    \n",
    "    # Run optimization\n",
    "    start = time.time()\n",
    "    try:\n",
    "        study.optimize(\n",
    "            objective_func, \n",
    "            n_trials=n_trials,\n",
    "            timeout=1800,  \n",
    "            catch=(Exception,)\n",
    "        )\n",
    "    except KeyboardInterrupt:\n",
    "        print(\"Optimization stopped by user.\")\n",
    "    \n",
    "    duration = time.time() - start\n",
    "    \n",
    "    # Print results\n",
    "    if len(study.trials) > 0:\n",
    "        print(\"\\n🎯 BOHB Phase Best Trial\")\n",
    "        print(f\"Trial #{study.best_trial.number}\")\n",
    "        print(f\"Accuracy: {study.best_value:.4f}\")\n",
    "        print(\"Best Hyperparameters:\")\n",
    "        for k, v in study.best_trial.params.items():\n",
    "            print(f\"  {k}: {v}\")\n",
    "        print(f\"⏱️ Optimization Time: {duration:.2f} seconds\")\n",
    "        \n",
    "        return study.best_trial.params\n",
    "    else:\n",
    "        print(\"No successful BOHB trials\")\n",
    "        return None\n",
    "\n",
    "def run_hybrid_tuning(train_dataset, val_dataset, tokenizer, id2label, label2id):\n",
    "    \"\"\"Run the complete hybrid tuning process\"\"\"\n",
    "    print(\"=\" * 60)\n",
    "    print(\"🔄 Starting hybrid hyperparameter tuning\")\n",
    "    print(\"=\" * 60)\n",
    "    \n",
    "    # Phase 1: Sequential tuning to find stable parameter ranges\n",
    "    param_ranges, seq_results = run_sequential_phase(\n",
    "        train_dataset, \n",
    "        val_dataset, \n",
    "        tokenizer, \n",
    "        id2label, \n",
    "        label2id, \n",
    "        n_trials=3  \n",
    "    )\n",
    "    \n",
    "    \n",
    "    if len(seq_results) == 0:\n",
    "        print(\"❌ No successful sequential trials. Using default parameters.\")\n",
    "        return {\n",
    "            \"learning_rate\": 2e-5,\n",
    "            \"batch_size\": 16,\n",
    "            \"num_epochs\": 2,\n",
    "            \"weight_decay\": 0.01\n",
    "        }\n",
    "    \n",
    "    # Phase 2: BOHB within refined parameter ranges\n",
    "    bohb_params = run_bohb_phase(\n",
    "        train_dataset, \n",
    "        val_dataset, \n",
    "        tokenizer, \n",
    "        id2label, \n",
    "        label2id, \n",
    "        param_ranges,\n",
    "        n_trials=4 \n",
    "    )\n",
    "    \n",
    "    # If BOHB fails, use best from sequential phase\n",
    "    if bohb_params is None:\n",
    "        print(\"Using best parameters from sequential phase\")\n",
    "        best_params = seq_results[0][\"params\"]\n",
    "    else:\n",
    "        best_params = bohb_params\n",
    "        best_params[\"num_epochs\"] = 2  \n",
    "    \n",
    "    print(\"\\n=== Final Hyperparameter Tuning Results ===\")\n",
    "    print(f\"Best parameters: {best_params}\")\n",
    "    \n",
    "    return best_params\n",
    "\n",
    "# Execute the hybrid tuning\n",
    "best_params = run_hybrid_tuning(\n",
    "    train_dataset=train_dataset, \n",
    "    val_dataset=val_dataset, \n",
    "    tokenizer=tokenizer, \n",
    "    id2label=id2label, \n",
    "    label2id=label2id\n",
    ")\n",
    "\n",
    "print(\"\\nFinal best parameters to use for full model training:\")\n",
    "for param_name, param_value in best_params.items():\n",
    "    print(f\"  {param_name}: {param_value}\")"
   ]
  },
  {
   "cell_type": "markdown",
   "metadata": {},
   "source": [
    "## 5. Data Preparation for fine-tuning(Instruction Tuning)"
   ]
  },
  {
   "cell_type": "code",
   "execution_count": null,
   "metadata": {
    "execution": {
     "iopub.execute_input": "2025-04-01T19:50:21.936848Z",
     "iopub.status.busy": "2025-04-01T19:50:21.936487Z",
     "iopub.status.idle": "2025-04-01T19:50:26.028448Z",
     "shell.execute_reply": "2025-04-01T19:50:26.027779Z",
     "shell.execute_reply.started": "2025-04-01T19:50:21.936819Z"
    },
    "trusted": true
   },
   "outputs": [
    {
     "name": "stdout",
     "output_type": "stream",
     "text": [
      "============================================================\n",
      "📂 Loading and Preparing Datasets\n",
      "============================================================\n",
      "Loading datasets from TSV files...\n",
      "Loaded datasets with shapes: Train=(550152, 3), Val=(10000, 3), Test=(10000, 3)\n",
      "Train dataframe columns: ['Sent1_parse', 'Sent2_parse', 'Label']\n",
      "First few rows of train data:\n",
      "                                                                                                                                                         Sent1_parse                                                                                                                                          Sent2_parse          Label\n",
      "0  (ROOT (S (NP (NP (DT A) (NN person)) (PP (IN on) (NP (DT a) (NN horse)))) (VP (VBZ jumps) (PP (IN over) (NP (DT a) (JJ broken) (JJ down) (NN airplane)))) (. .)))     (ROOT (S (NP (DT A) (NN person)) (VP (VBZ is) (VP (VBG training) (NP (PRP$ his) (NN horse)) (PP (IN for) (NP (DT a) (NN competition))))) (. .)))        neutral\n",
      "1  (ROOT (S (NP (NP (DT A) (NN person)) (PP (IN on) (NP (DT a) (NN horse)))) (VP (VBZ jumps) (PP (IN over) (NP (DT a) (JJ broken) (JJ down) (NN airplane)))) (. .)))  (ROOT (S (NP (DT A) (NN person)) (VP (VBZ is) (PP (IN at) (NP (DT a) (NN diner))) (, ,) (S (VP (VBG ordering) (NP (DT an) (NN omelette))))) (. .)))  contradiction\n",
      "\n",
      "Checking for missing and placeholder values:\n",
      "Train NaN count: {'Sent1_parse': 0, 'Sent2_parse': 0, 'Label': 0}\n",
      "Val NaN count: {'Sent1_parse': 0, 'Sent2_parse': 0, 'Label': 0}\n",
      "Test NaN count: {'Sent1_parse': 0, 'Sent2_parse': 0, 'Label': 0}\n",
      "Train '-' values in Label column: 785\n",
      "Val '-' values in Label column: 158\n",
      "Test '-' values in Label column: 176\n",
      "\n",
      "Label distribution in train set:\n",
      "Label\n",
      "entailment       183416\n",
      "contradiction    183187\n",
      "neutral          182764\n",
      "-                   785\n",
      "Name: count, dtype: int64\n",
      "\n",
      "Filtering out rows with invalid labels...\n",
      "Filtered train dataset: 549367 rows\n",
      "Filtered validation dataset: 9842 rows\n",
      "Filtered test dataset: 9824 rows\n",
      "\n",
      "Converting to HuggingFace datasets...\n",
      "\n",
      "Final dataset sizes: Train=549367, Val=9842, Test=9824\n",
      "\n",
      "✅ Data preparation complete and ready for model training\n",
      "Available for next stage: train_dataset, val_dataset, test_dataset, and dataframes\n"
     ]
    }
   ],
   "source": [
    "import pandas as pd\n",
    "import numpy as np\n",
    "import re\n",
    "from datasets import Dataset\n",
    "\n",
    "# Define function to extract plain text from parse trees\n",
    "def extract_sentence(parse_str):\n",
    "    \"\"\"Extract plain text from parse tree\"\"\"\n",
    "    return ' '.join(re.findall(r'\\b\\w+\\b', str(parse_str)))\n",
    "\n",
    "def load_datasets():\n",
    "    \n",
    "    print(\"=\" * 60)\n",
    "    print(\"📂 Loading and Preparing Datasets\")\n",
    "    print(\"=\" * 60)\n",
    "    \n",
    "    \n",
    "    print(\"Loading datasets from TSV files...\")\n",
    "    try:\n",
    "        train_df = pd.read_csv('/kaggle/input/recognizing-textual-entailment-rte/train.tsv', sep='\\t')\n",
    "        val_df = pd.read_csv('/kaggle/input/recognizing-textual-entailment-rte/dev.tsv', sep='\\t')\n",
    "        test_df = pd.read_csv('/kaggle/input/recognizing-textual-entailment-rte/test.tsv', sep='\\t')\n",
    "    except Exception as e:\n",
    "        print(f\"Error loading from Kaggle path: {e}\")\n",
    "        # Try alternative paths\n",
    "        try:\n",
    "            train_df = pd.read_csv('./train.tsv', sep='\\t')\n",
    "            val_df = pd.read_csv('./dev.tsv', sep='\\t')\n",
    "            test_df = pd.read_csv('./test.tsv', sep='\\t')\n",
    "        except Exception as e2:\n",
    "            print(f\"Error with alternative path: {e2}\")\n",
    "            raise\n",
    "\n",
    "    print(f\"Loaded datasets with shapes: Train={train_df.shape}, Val={val_df.shape}, Test={test_df.shape}\")\n",
    "    \n",
    "    # Examine dataset columns\n",
    "    print(f\"Train dataframe columns: {train_df.columns.tolist()}\")\n",
    "    print(f\"First few rows of train data:\")\n",
    "    print(train_df.head(2).to_string())\n",
    "    \n",
    "    # Check for NaN values and \"-\" placeholder values\n",
    "    print(\"\\nChecking for missing and placeholder values:\")\n",
    "    print(\"Train NaN count:\", train_df.isna().sum().to_dict())\n",
    "    print(\"Val NaN count:\", val_df.isna().sum().to_dict())\n",
    "    print(\"Test NaN count:\", test_df.isna().sum().to_dict())\n",
    "    \n",
    "    # Check for \"-\" values in the Label column\n",
    "    if 'Label' in train_df.columns:\n",
    "        train_dash_count = (train_df['Label'] == \"-\").sum()\n",
    "        print(f\"Train '-' values in Label column: {train_dash_count}\")\n",
    "    if 'Label' in val_df.columns:\n",
    "        val_dash_count = (val_df['Label'] == \"-\").sum()\n",
    "        print(f\"Val '-' values in Label column: {val_dash_count}\")\n",
    "    if 'Label' in test_df.columns:\n",
    "        test_dash_count = (test_df['Label'] == \"-\").sum()\n",
    "        print(f\"Test '-' values in Label column: {test_dash_count}\")\n",
    "    \n",
    "    # Check label distribution\n",
    "    if 'Label' in train_df.columns:\n",
    "        print(\"\\nLabel distribution in train set:\")\n",
    "        print(train_df['Label'].value_counts())\n",
    "    \n",
    "    # Define label mappings\n",
    "    label2id = {'entailment': 0, 'contradiction': 1, 'neutral': 2}\n",
    "    id2label = {v: k for k, v in label2id.items()}\n",
    "    \n",
    "    # Filter out rows with \"-\" as the label\n",
    "    print(\"\\nFiltering out rows with invalid labels...\")\n",
    "    if 'Label' in train_df.columns:\n",
    "        train_df = train_df[train_df['Label'] != \"-\"].reset_index(drop=True)\n",
    "        print(f\"Filtered train dataset: {len(train_df)} rows\")\n",
    "    \n",
    "    if 'Label' in val_df.columns:\n",
    "        val_df = val_df[val_df['Label'] != \"-\"].reset_index(drop=True)\n",
    "        print(f\"Filtered validation dataset: {len(val_df)} rows\")\n",
    "    \n",
    "    if 'Label' in test_df.columns:\n",
    "        test_df = test_df[test_df['Label'] != \"-\"].reset_index(drop=True)\n",
    "        print(f\"Filtered test dataset: {len(test_df)} rows\")\n",
    "        \n",
    "    # Convert to HuggingFace datasets\n",
    "    print(\"\\nConverting to HuggingFace datasets...\")\n",
    "    train_dataset = Dataset.from_pandas(train_df)\n",
    "    val_dataset = Dataset.from_pandas(val_df)\n",
    "    test_dataset = Dataset.from_pandas(test_df)\n",
    "\n",
    "    # Sample data for faster training if needed\n",
    "    sample_ratio = 1.0  # Set to < 1.0 for sampling\n",
    "    if sample_ratio < 1.0:\n",
    "        print(f\"Sampling {sample_ratio*100:.1f}% of training data for faster development...\")\n",
    "        train_size = int(len(train_dataset) * sample_ratio)\n",
    "        indices = np.random.choice(len(train_dataset), train_size, replace=False)\n",
    "        train_dataset = train_dataset.select(indices)\n",
    "        print(f\"Sampled train size: {len(train_dataset)}\")\n",
    "    \n",
    "    print(f\"\\nFinal dataset sizes: Train={len(train_dataset)}, Val={len(val_dataset)}, Test={len(test_dataset)}\")\n",
    "    \n",
    "    return train_dataset, val_dataset, test_dataset, train_df, val_df, test_df, label2id, id2label\n",
    "\n",
    "# Execute data preparation\n",
    "if __name__ == \"__main__\":\n",
    "    train_dataset, val_dataset, test_dataset, train_df, val_df, test_df, label2id, id2label = load_datasets()\n",
    "    \n",
    "    print(\"\\n✅ Data preparation complete and ready for model training\")\n",
    "    print(f\"Available for next stage: train_dataset, val_dataset, test_dataset, and dataframes\")"
   ]
  },
  {
   "cell_type": "markdown",
   "metadata": {},
   "source": [
    "## 6.Model Training Using Best Params"
   ]
  },
  {
   "cell_type": "code",
   "execution_count": null,
   "metadata": {
    "execution": {
     "iopub.execute_input": "2025-04-01T19:54:19.361853Z",
     "iopub.status.busy": "2025-04-01T19:54:19.361475Z",
     "iopub.status.idle": "2025-04-02T03:28:33.835460Z",
     "shell.execute_reply": "2025-04-02T03:28:33.834673Z",
     "shell.execute_reply.started": "2025-04-01T19:54:19.361824Z"
    },
    "trusted": true
   },
   "outputs": [
    {
     "name": "stdout",
     "output_type": "stream",
     "text": [
      "============================================================\n",
      "🚀 Training NLI model with instruction tuning\n",
      "============================================================\n",
      "✅ Using GPU: Tesla T4\n",
      "📊 Training Configuration:\n",
      "  Learning Rate: 1.827226177606625e-05\n",
      "  Batch Size: 64\n",
      "  Weight Decay: 0.09507143064099162\n",
      "  Epochs: 2\n",
      "  Train Dataset Size: 549367\n",
      "  Validation Dataset Size: 9842\n",
      "  Test Dataset Size: 9824\n",
      "Model artifacts will be saved to: /kaggle/working/nli_model_20250401_195419\n",
      "Converting datasets to instruction format...\n",
      "Available columns in dataset: ['Sent1_parse', 'Sent2_parse', 'Label']\n",
      "Using 'Sent1_parse' for premise, 'Sent2_parse' for hypothesis, and 'Label' for label\n",
      "Available columns in dataset: ['Sent1_parse', 'Sent2_parse', 'Label']\n",
      "Using 'Sent1_parse' for premise, 'Sent2_parse' for hypothesis, and 'Label' for label\n",
      "Available columns in dataset: ['Sent1_parse', 'Sent2_parse', 'Label']\n",
      "Using 'Sent1_parse' for premise, 'Sent2_parse' for hypothesis, and 'Label' for label\n",
      "Instruction dataset sizes: Train=549367, Val=9842, Test=9824\n",
      "Initializing tokenizer...\n",
      "Tokenizing instruction datasets...\n"
     ]
    },
    {
     "data": {
      "application/vnd.jupyter.widget-view+json": {
       "model_id": "eee33fe4600d4ce08b5bd779a3be3ea1",
       "version_major": 2,
       "version_minor": 0
      },
      "text/plain": [
       "Map:   0%|          | 0/549367 [00:00<?, ? examples/s]"
      ]
     },
     "metadata": {},
     "output_type": "display_data"
    },
    {
     "data": {
      "application/vnd.jupyter.widget-view+json": {
       "model_id": "b453a6f103cb4ccb8fc0ef066d259591",
       "version_major": 2,
       "version_minor": 0
      },
      "text/plain": [
       "Map:   0%|          | 0/9842 [00:00<?, ? examples/s]"
      ]
     },
     "metadata": {},
     "output_type": "display_data"
    },
    {
     "data": {
      "application/vnd.jupyter.widget-view+json": {
       "model_id": "5e23653176c44d508b414cf71490f222",
       "version_major": 2,
       "version_minor": 0
      },
      "text/plain": [
       "Map:   0%|          | 0/9824 [00:00<?, ? examples/s]"
      ]
     },
     "metadata": {},
     "output_type": "display_data"
    },
    {
     "name": "stderr",
     "output_type": "stream",
     "text": [
      "/usr/local/lib/python3.10/dist-packages/transformers/training_args.py:1575: FutureWarning: `evaluation_strategy` is deprecated and will be removed in version 4.46 of 🤗 Transformers. Use `eval_strategy` instead\n",
      "  warnings.warn(\n",
      "Some weights of BertForSequenceClassification were not initialized from the model checkpoint at bert-base-uncased and are newly initialized: ['classifier.bias', 'classifier.weight']\n",
      "You should probably TRAIN this model on a down-stream task to be able to use it for predictions and inference.\n"
     ]
    },
    {
     "name": "stdout",
     "output_type": "stream",
     "text": [
      "Creating model...\n",
      "✅ Model successfully moved to GPU\n",
      "\n",
      "⏳ Training the model...\n"
     ]
    },
    {
     "name": "stderr",
     "output_type": "stream",
     "text": [
      "<ipython-input-14-c75878347af3>:234: FutureWarning: `tokenizer` is deprecated and will be removed in version 5.0.0 for `Trainer.__init__`. Use `processing_class` instead.\n",
      "  trainer = Trainer(\n",
      "/usr/local/lib/python3.10/dist-packages/torch/nn/parallel/_functions.py:71: UserWarning: Was asked to gather along dimension 0, but all input tensors were scalars; will instead unsqueeze and return a vector.\n",
      "  warnings.warn(\n"
     ]
    },
    {
     "data": {
      "text/html": [
       "\n",
       "    <div>\n",
       "      \n",
       "      <progress value='2146' max='2146' style='width:300px; height:20px; vertical-align: middle;'></progress>\n",
       "      [2146/2146 7:27:40, Epoch 2/2]\n",
       "    </div>\n",
       "    <table border=\"1\" class=\"dataframe\">\n",
       "  <thead>\n",
       " <tr style=\"text-align: left;\">\n",
       "      <th>Epoch</th>\n",
       "      <th>Training Loss</th>\n",
       "      <th>Validation Loss</th>\n",
       "      <th>Accuracy</th>\n",
       "      <th>F1 Macro</th>\n",
       "    </tr>\n",
       "  </thead>\n",
       "  <tbody>\n",
       "    <tr>\n",
       "      <td>1</td>\n",
       "      <td>0.541500</td>\n",
       "      <td>0.358282</td>\n",
       "      <td>0.866389</td>\n",
       "      <td>0.866571</td>\n",
       "    </tr>\n",
       "    <tr>\n",
       "      <td>2</td>\n",
       "      <td>0.385000</td>\n",
       "      <td>0.328452</td>\n",
       "      <td>0.879293</td>\n",
       "      <td>0.879127</td>\n",
       "    </tr>\n",
       "  </tbody>\n",
       "</table><p>"
      ],
      "text/plain": [
       "<IPython.core.display.HTML object>"
      ]
     },
     "metadata": {},
     "output_type": "display_data"
    },
    {
     "name": "stderr",
     "output_type": "stream",
     "text": [
      "/usr/local/lib/python3.10/dist-packages/torch/nn/parallel/_functions.py:71: UserWarning: Was asked to gather along dimension 0, but all input tensors were scalars; will instead unsqueeze and return a vector.\n",
      "  warnings.warn(\n",
      "/usr/local/lib/python3.10/dist-packages/torch/nn/parallel/_functions.py:71: UserWarning: Was asked to gather along dimension 0, but all input tensors were scalars; will instead unsqueeze and return a vector.\n",
      "  warnings.warn(\n"
     ]
    },
    {
     "name": "stdout",
     "output_type": "stream",
     "text": [
      "✅ Training completed in 7h 27m 56s\n",
      "\n",
      "⏳ Evaluating on validation set...\n"
     ]
    },
    {
     "name": "stderr",
     "output_type": "stream",
     "text": [
      "/usr/local/lib/python3.10/dist-packages/torch/nn/parallel/_functions.py:71: UserWarning: Was asked to gather along dimension 0, but all input tensors were scalars; will instead unsqueeze and return a vector.\n",
      "  warnings.warn(\n"
     ]
    },
    {
     "data": {
      "text/html": [],
      "text/plain": [
       "<IPython.core.display.HTML object>"
      ]
     },
     "metadata": {},
     "output_type": "display_data"
    },
    {
     "name": "stdout",
     "output_type": "stream",
     "text": [
      "Validation metrics: {'eval_loss': 0.3284517228603363, 'eval_accuracy': 0.8792928266612478, 'eval_f1_macro': 0.8791267145023608, 'eval_runtime': 85.8952, 'eval_samples_per_second': 114.581, 'eval_steps_per_second': 0.454, 'epoch': 2.0}\n",
      "\n",
      "⏳ Evaluating on test set...\n"
     ]
    },
    {
     "name": "stderr",
     "output_type": "stream",
     "text": [
      "/usr/local/lib/python3.10/dist-packages/torch/nn/parallel/_functions.py:71: UserWarning: Was asked to gather along dimension 0, but all input tensors were scalars; will instead unsqueeze and return a vector.\n",
      "  warnings.warn(\n"
     ]
    },
    {
     "name": "stdout",
     "output_type": "stream",
     "text": [
      "Test metrics: {'eval_loss': 0.326068252325058, 'eval_accuracy': 0.8795806188925082, 'eval_f1_macro': 0.879295572962462, 'eval_runtime': 85.4599, 'eval_samples_per_second': 114.955, 'eval_steps_per_second': 0.456, 'epoch': 2.0}\n",
      "✅ Model saved to /kaggle/working/nli_model_20250401_195419/best-model\n",
      "\n",
      "✅ Model training complete!\n",
      "Model saved at: /kaggle/working/nli_model_20250401_195419/best-model\n"
     ]
    }
   ],
   "source": [
    "import os\n",
    "import torch\n",
    "import gc\n",
    "import time\n",
    "import re\n",
    "import numpy as np\n",
    "from datetime import datetime\n",
    "from transformers import (\n",
    "    AutoModelForSequenceClassification, \n",
    "    AutoTokenizer,\n",
    "    Trainer, \n",
    "    TrainingArguments,\n",
    "    EarlyStoppingCallback,\n",
    "    DataCollatorWithPadding\n",
    ")\n",
    "from datasets import Dataset\n",
    "\n",
    "\n",
    "def extract_sentence(parse_str):\n",
    "    \"\"\"Extract plain text from parse tree\"\"\"\n",
    "    return ' '.join(re.findall(r'\\b\\w+\\b', str(parse_str)))\n",
    "\n",
    "def format_instruction_examples(dataset):\n",
    "    \"\"\"Convert dataset examples to instruction format\"\"\"\n",
    "    formatted_dataset = []\n",
    "    \n",
    "    # First check what columns are actually available\n",
    "    if len(dataset) > 0:\n",
    "        first_example = dataset[0]\n",
    "        columns = list(first_example.keys())\n",
    "        print(f\"Available columns in dataset: {columns}\")\n",
    "        \n",
    "        \n",
    "        premise_key = None\n",
    "        hypothesis_key = None\n",
    "        label_key = None\n",
    "        \n",
    "        if 'premise' in columns and 'hypothesis' in columns:\n",
    "            premise_key = 'premise'\n",
    "            hypothesis_key = 'hypothesis'\n",
    "        elif 'Sent1_parse' in columns and 'Sent2_parse' in columns:\n",
    "            premise_key = 'Sent1_parse'\n",
    "            hypothesis_key = 'Sent2_parse'\n",
    "        else:\n",
    "            raise ValueError(f\"Could not find premise and hypothesis columns in dataset. Available columns: {columns}\")\n",
    "            \n",
    "        # Determine label column\n",
    "        if 'label' in columns:\n",
    "            label_key = 'label'\n",
    "        elif 'Label' in columns:\n",
    "            label_key = 'Label'\n",
    "        \n",
    "        print(f\"Using '{premise_key}' for premise, '{hypothesis_key}' for hypothesis, and '{label_key}' for label\")\n",
    "        \n",
    "        # Process each example\n",
    "        for i in range(len(dataset)):\n",
    "            example = dataset[i]\n",
    "            \n",
    "            # Extract premise and hypothesis\n",
    "            if premise_key in example and hypothesis_key in example:\n",
    "                premise_raw = example[premise_key]\n",
    "                hypothesis_raw = example[hypothesis_key]\n",
    "                \n",
    "                # Clean text if needed (remove parse trees if using Sent*_parse columns)\n",
    "                premise = extract_sentence(premise_raw) if premise_key == 'Sent1_parse' else premise_raw\n",
    "                hypothesis = extract_sentence(hypothesis_raw) if hypothesis_key == 'Sent2_parse' else hypothesis_raw\n",
    "                \n",
    "                # Format as instruction\n",
    "                instruction = f\"\"\"\n",
    "Task: Determine if the premise entails, contradicts, or is neutral to the hypothesis.\n",
    "\n",
    "Premise: {premise}\n",
    "Hypothesis: {hypothesis}\n",
    "\n",
    "Answer with only one word: entailment, contradiction, or neutral.\n",
    "\"\"\"\n",
    "                \n",
    "                # For training examples, we have labels\n",
    "                label = None\n",
    "                if label_key and label_key in example:\n",
    "                    label = example[label_key]\n",
    "                    # Convert string label to id if needed\n",
    "                    if isinstance(label, str):\n",
    "                        # Skip invalid labels like \"-\"\n",
    "                        if label == \"-\":\n",
    "                            continue\n",
    "                        label_map = {'entailment': 0, 'contradiction': 1, 'neutral': 2}\n",
    "                        label = label_map.get(label.lower(), None)\n",
    "                \n",
    "                # Convert tensor to int if needed\n",
    "                if hasattr(label, 'item'):\n",
    "                    label = label.item()\n",
    "                \n",
    "                formatted_dataset.append({\n",
    "                    \"input\": instruction,\n",
    "                    \"label\": label\n",
    "                })\n",
    "            else:\n",
    "                print(f\"Warning: Missing premise or hypothesis in example {i}\")\n",
    "    else:\n",
    "        print(\"Warning: Dataset is empty!\")\n",
    "    \n",
    "    return Dataset.from_list(formatted_dataset)\n",
    "\n",
    "def train_nli_model(train_dataset, val_dataset, test_dataset, label2id, id2label, best_params=None):\n",
    "    print(\"=\" * 60)\n",
    "    print(\"🚀 Training NLI model with instruction tuning\")\n",
    "    print(\"=\" * 60)\n",
    "    \n",
    "    # Force GPU cleanup before starting\n",
    "    if torch.cuda.is_available():\n",
    "        torch.cuda.empty_cache()\n",
    "        gc.collect()\n",
    "        print(f\"✅ Using GPU: {torch.cuda.get_device_name(0)}\")\n",
    "    else:\n",
    "        print(\"⚠️ No GPU detected - training may be slow\")\n",
    "    \n",
    "    # Set default hyperparameters if not provided\n",
    "    if best_params is None:\n",
    "        best_params = {\n",
    "            \"learning_rate\": 2e-5,\n",
    "            \"batch_size\": 32,\n",
    "            \"num_epochs\": 3,\n",
    "            \"weight_decay\": 0.01\n",
    "        }\n",
    "    \n",
    "    # Extract hyperparameters\n",
    "    learning_rate = best_params.get(\"learning_rate\", 2e-5)\n",
    "    batch_size = best_params.get(\"batch_size\", 32)\n",
    "    weight_decay = best_params.get(\"weight_decay\", 0.01)\n",
    "    num_epochs = best_params.get(\"num_epochs\", 3)\n",
    "    \n",
    "    print(f\"📊 Training Configuration:\")\n",
    "    print(f\"  Learning Rate: {learning_rate}\")\n",
    "    print(f\"  Batch Size: {batch_size}\")\n",
    "    print(f\"  Weight Decay: {weight_decay}\")\n",
    "    print(f\"  Epochs: {num_epochs}\")\n",
    "    print(f\"  Train Dataset Size: {len(train_dataset)}\")\n",
    "    print(f\"  Validation Dataset Size: {len(val_dataset)}\")\n",
    "    print(f\"  Test Dataset Size: {len(test_dataset)}\")\n",
    "    \n",
    "    # Create timestamp for unique run name\n",
    "    timestamp = datetime.now().strftime(\"%Y%m%d_%H%M%S\")\n",
    "    \n",
    "    # Create output directory\n",
    "    output_dir = f\"/kaggle/working/nli_model_{timestamp}\"\n",
    "    os.makedirs(output_dir, exist_ok=True)\n",
    "    print(f\"Model artifacts will be saved to: {output_dir}\")\n",
    "    \n",
    "    # Convert datasets to instruction format\n",
    "    print(\"Converting datasets to instruction format...\")\n",
    "    train_instruction = format_instruction_examples(train_dataset)\n",
    "    val_instruction = format_instruction_examples(val_dataset)\n",
    "    test_instruction = format_instruction_examples(test_dataset)\n",
    "    \n",
    "    print(f\"Instruction dataset sizes: Train={len(train_instruction)}, Val={len(val_instruction)}, Test={len(test_instruction)}\")\n",
    "    \n",
    "    # Initialize tokenizer\n",
    "    print(\"Initializing tokenizer...\")\n",
    "    tokenizer = AutoTokenizer.from_pretrained(\"bert-base-uncased\")\n",
    "    \n",
    "    # Create tokenization function for instruction formatted data\n",
    "    def tokenize_function(examples):\n",
    "        return tokenizer(examples[\"input\"], truncation=True, padding=\"max_length\", max_length=256)\n",
    "    \n",
    "    # Tokenize the datasets\n",
    "    print(\"Tokenizing instruction datasets...\")\n",
    "    train_tokenized = train_instruction.map(tokenize_function, batched=True)\n",
    "    val_tokenized = val_instruction.map(tokenize_function, batched=True)\n",
    "    test_tokenized = test_instruction.map(tokenize_function, batched=True)\n",
    "    \n",
    "    # Set format for PyTorch\n",
    "    train_tokenized.set_format(type=\"torch\", columns=[\"input_ids\", \"attention_mask\", \"label\"])\n",
    "    val_tokenized.set_format(type=\"torch\", columns=[\"input_ids\", \"attention_mask\", \"label\"])\n",
    "    test_tokenized.set_format(type=\"torch\", columns=[\"input_ids\", \"attention_mask\", \"label\"])\n",
    "    \n",
    "    # Define metrics calculation function\n",
    "    def compute_metrics(eval_pred):\n",
    "        from sklearn.metrics import accuracy_score, f1_score\n",
    "        logits, labels = eval_pred\n",
    "        preds = np.argmax(logits, axis=-1)\n",
    "        acc = accuracy_score(labels, preds)\n",
    "        f1 = f1_score(labels, preds, average=\"macro\")\n",
    "        return {\n",
    "            \"accuracy\": acc,\n",
    "            \"f1_macro\": f1\n",
    "        }\n",
    "    \n",
    "    # Training arguments for final model\n",
    "    training_args = TrainingArguments(\n",
    "        output_dir=output_dir,\n",
    "        evaluation_strategy=\"epoch\",\n",
    "        save_strategy=\"epoch\",\n",
    "        logging_strategy=\"steps\",\n",
    "        logging_steps=1000,\n",
    "        num_train_epochs=num_epochs,\n",
    "        per_device_train_batch_size=batch_size,\n",
    "        per_device_eval_batch_size=batch_size * 2,\n",
    "        learning_rate=learning_rate,\n",
    "        weight_decay=weight_decay,\n",
    "        load_best_model_at_end=True,\n",
    "        metric_for_best_model=\"accuracy\",\n",
    "        gradient_accumulation_steps=4,\n",
    "        greater_is_better=True,\n",
    "        report_to=\"none\",\n",
    "        fp16=True if torch.cuda.is_available() else False,\n",
    "        save_total_limit=1,\n",
    "        dataloader_num_workers=0,\n",
    "        dataloader_pin_memory=True,\n",
    "        push_to_hub=False,\n",
    "    )\n",
    "    \n",
    "    # Create model\n",
    "    print(\"Creating model...\")\n",
    "    model = AutoModelForSequenceClassification.from_pretrained(\n",
    "        \"bert-base-uncased\",\n",
    "        num_labels=len(id2label),\n",
    "        id2label=id2label,\n",
    "        label2id=label2id\n",
    "    )\n",
    "    \n",
    "    # Explicitly move model to GPU\n",
    "    if torch.cuda.is_available():\n",
    "        model = model.cuda()\n",
    "        print(f\"✅ Model successfully moved to GPU\")\n",
    "    \n",
    "    # Early stopping callback\n",
    "    early_stopping_callback = EarlyStoppingCallback(\n",
    "        early_stopping_patience=2,\n",
    "        early_stopping_threshold=0.001\n",
    "    )\n",
    "    \n",
    "    # Initialize trainer\n",
    "    trainer = Trainer(\n",
    "        model=model,\n",
    "        args=training_args,\n",
    "        tokenizer=tokenizer,\n",
    "        train_dataset=train_tokenized,\n",
    "        eval_dataset=val_tokenized,\n",
    "        compute_metrics=compute_metrics,\n",
    "        callbacks=[early_stopping_callback],\n",
    "        data_collator=DataCollatorWithPadding(tokenizer)\n",
    "    )\n",
    "    \n",
    "    # Train model\n",
    "    print(\"\\n⏳ Training the model...\")\n",
    "    start_time = time.time()\n",
    "    train_result = trainer.train()\n",
    "    training_time = time.time() - start_time\n",
    "    \n",
    "    hours = int(training_time // 3600)\n",
    "    minutes = int((training_time % 3600) // 60)\n",
    "    seconds = int(training_time % 60)\n",
    "    print(f\"✅ Training completed in {hours}h {minutes}m {seconds}s\")\n",
    "    \n",
    "    # Evaluate on validation set\n",
    "    print(\"\\n⏳ Evaluating on validation set...\")\n",
    "    val_metrics = trainer.evaluate(val_tokenized)\n",
    "    print(f\"Validation metrics: {val_metrics}\")\n",
    "    \n",
    "    # Evaluate on test set\n",
    "    print(\"\\n⏳ Evaluating on test set...\")\n",
    "    test_metrics = trainer.evaluate(test_tokenized)\n",
    "    print(f\"Test metrics: {test_metrics}\")\n",
    "    \n",
    "    # Save the final model\n",
    "    best_model_path = f\"{output_dir}/best-model\"\n",
    "    trainer.save_model(best_model_path)\n",
    "    tokenizer.save_pretrained(best_model_path)\n",
    "    print(f\"✅ Model saved to {best_model_path}\")\n",
    "    \n",
    "    # Save model info to a text file\n",
    "    with open(f\"{output_dir}/model_info.txt\", 'w') as f:\n",
    "        f.write(f\"Model trained at: {timestamp}\\n\")\n",
    "        f.write(f\"Parameters: {best_params}\\n\")\n",
    "        f.write(f\"Validation accuracy: {val_metrics['eval_accuracy']:.4f}\\n\")\n",
    "        f.write(f\"Validation F1 macro: {val_metrics['eval_f1_macro']:.4f}\\n\")\n",
    "        f.write(f\"Test accuracy: {test_metrics['eval_accuracy']:.4f}\\n\")\n",
    "        f.write(f\"Test F1 macro: {test_metrics['eval_f1_macro']:.4f}\\n\")\n",
    "    \n",
    "    return model, trainer, tokenizer, val_metrics, test_metrics, best_model_path, output_dir\n",
    "\n",
    "# Execute model training\n",
    "# Best hyperparameters from your tuning\n",
    "best_params = {\n",
    "    \"learning_rate\": 1.827226177606625e-05,  \n",
    "    \"batch_size\": 64, \n",
    "    \"weight_decay\": 0.09507143064099162,  \n",
    "    \"num_epochs\": 2  \n",
    "}\n",
    "\n",
    "# Use the variables from the previous cell\n",
    "# train_dataset, val_dataset, test_dataset should be defined in the previous cell\n",
    "# label2id, id2label should also be defined in the previous cell\n",
    "\n",
    "# Train the model\n",
    "model, trainer, tokenizer, val_metrics, test_metrics, model_path, output_dir = train_nli_model(\n",
    "    train_dataset=train_dataset,\n",
    "    val_dataset=val_dataset,\n",
    "    test_dataset=test_dataset,\n",
    "    label2id=label2id,\n",
    "    id2label=id2label,\n",
    "    best_params=best_params\n",
    ")\n",
    "\n",
    "print(\"\\n✅ Model training complete!\")\n",
    "print(f\"Model saved at: {model_path}\")"
   ]
  },
  {
   "cell_type": "markdown",
   "metadata": {},
   "source": [
    "## 7.Evaluation and Generating Prediction Files"
   ]
  },
  {
   "cell_type": "code",
   "execution_count": null,
   "metadata": {
    "execution": {
     "iopub.execute_input": "2025-04-02T03:38:55.812232Z",
     "iopub.status.busy": "2025-04-02T03:38:55.811892Z",
     "iopub.status.idle": "2025-04-02T03:46:45.418138Z",
     "shell.execute_reply": "2025-04-02T03:46:45.417402Z",
     "shell.execute_reply.started": "2025-04-02T03:38:55.812209Z"
    },
    "trusted": true
   },
   "outputs": [
    {
     "name": "stdout",
     "output_type": "stream",
     "text": [
      "============================================================\n",
      "📊 Evaluating Model and Generating Submission Files\n",
      "============================================================\n",
      "\n",
      "Preparing tokenized datasets for evaluation...\n"
     ]
    },
    {
     "data": {
      "application/vnd.jupyter.widget-view+json": {
       "model_id": "0622c74ccb8f4a58a0394269e7d8e5a8",
       "version_major": 2,
       "version_minor": 0
      },
      "text/plain": [
       "Map:   0%|          | 0/549367 [00:00<?, ? examples/s]"
      ]
     },
     "metadata": {},
     "output_type": "display_data"
    },
    {
     "data": {
      "application/vnd.jupyter.widget-view+json": {
       "model_id": "4610e136545c4f138d712bc8f1c308d0",
       "version_major": 2,
       "version_minor": 0
      },
      "text/plain": [
       "Map:   0%|          | 0/9842 [00:00<?, ? examples/s]"
      ]
     },
     "metadata": {},
     "output_type": "display_data"
    },
    {
     "data": {
      "application/vnd.jupyter.widget-view+json": {
       "model_id": "a96cf5d90a9e4e24be3ec584d4643be7",
       "version_major": 2,
       "version_minor": 0
      },
      "text/plain": [
       "Map:   0%|          | 0/9824 [00:00<?, ? examples/s]"
      ]
     },
     "metadata": {},
     "output_type": "display_data"
    },
    {
     "name": "stdout",
     "output_type": "stream",
     "text": [
      "Tokenized dataset sizes: Train=549367, Val=9842, Test=9824\n"
     ]
    },
    {
     "data": {
      "image/png": "[encoded data removed]",
      "text/plain": [
       "<Figure size 1000x600 with 1 Axes>"
      ]
     },
     "metadata": {},
     "output_type": "display_data"
    },
    {
     "name": "stdout",
     "output_type": "stream",
     "text": [
      "\n",
      "⏳ Generating detailed test metrics...\n"
     ]
    },
    {
     "name": "stderr",
     "output_type": "stream",
     "text": [
      "/usr/local/lib/python3.10/dist-packages/torch/nn/parallel/_functions.py:71: UserWarning: Was asked to gather along dimension 0, but all input tensors were scalars; will instead unsqueeze and return a vector.\n",
      "  warnings.warn(\n"
     ]
    },
    {
     "data": {
      "image/png": "[encoded data removed]",
      "text/plain": [
       "<Figure size 1000x800 with 2 Axes>"
      ]
     },
     "metadata": {},
     "output_type": "display_data"
    },
    {
     "name": "stdout",
     "output_type": "stream",
     "text": [
      "\n",
      "📝 Generating submission files...\n",
      "Processing validation file...\n"
     ]
    },
    {
     "data": {
      "application/vnd.jupyter.widget-view+json": {
       "model_id": "f3bdf30e994b4910bc7af257d4ac5a9b",
       "version_major": 2,
       "version_minor": 0
      },
      "text/plain": [
       "Map:   0%|          | 0/9842 [00:00<?, ? examples/s]"
      ]
     },
     "metadata": {},
     "output_type": "display_data"
    },
    {
     "data": {
      "text/html": [],
      "text/plain": [
       "<IPython.core.display.HTML object>"
      ]
     },
     "metadata": {},
     "output_type": "display_data"
    },
    {
     "name": "stdout",
     "output_type": "stream",
     "text": [
      "✅ Validation submission file saved to /kaggle/working/nli_model_20250401_195419/validation_submission.tsv\n",
      "Processing test file...\n"
     ]
    },
    {
     "data": {
      "application/vnd.jupyter.widget-view+json": {
       "model_id": "3343cff14dfc48a7b507bb1d21d6d504",
       "version_major": 2,
       "version_minor": 0
      },
      "text/plain": [
       "Map:   0%|          | 0/9824 [00:00<?, ? examples/s]"
      ]
     },
     "metadata": {},
     "output_type": "display_data"
    },
    {
     "data": {
      "text/html": [],
      "text/plain": [
       "<IPython.core.display.HTML object>"
      ]
     },
     "metadata": {},
     "output_type": "display_data"
    },
    {
     "name": "stdout",
     "output_type": "stream",
     "text": [
      "✅ Test submission file saved to /kaggle/working/nli_model_20250401_195419/test_submission.tsv\n",
      "\n",
      "🔍 Validation Prediction Analysis:\n",
      "Accuracy: 0.8793 (on 9842 labeled examples)\n",
      "\n",
      "Prediction distribution:\n",
      "predicted_label\n",
      "contradiction    3318\n",
      "neutral          3263\n",
      "entailment       3261\n",
      "Name: count, dtype: int64\n",
      "\n",
      "Accuracy by class:\n",
      "entailment: 0.8895 (3329 examples)\n",
      "contradiction: 0.8996 (3278 examples)\n",
      "neutral: 0.8482 (3235 examples)\n",
      "\n",
      "Found 0 rows with None values in the validation set Label column.\n",
      "Found 0 rows with '-' values in the validation set Label column.\n",
      "\n",
      "✅ Evaluation complete and submission files generated!\n",
      "Validation file: /kaggle/working/nli_model_20250401_195419/validation_submission.tsv\n",
      "Test file: /kaggle/working/nli_model_20250401_195419/test_submission.tsv\n"
     ]
    }
   ],
   "source": [
    "import numpy as np\n",
    "import pandas as pd\n",
    "import matplotlib.pyplot as plt\n",
    "import seaborn as sns\n",
    "import re\n",
    "from sklearn.metrics import confusion_matrix, classification_report\n",
    "from datasets import Dataset\n",
    "\n",
    "\n",
    "def extract_sentence(parse_str):\n",
    "    \"\"\"Extract plain text from parse tree\"\"\"\n",
    "    return ' '.join(re.findall(r'\\b\\w+\\b', str(parse_str)))\n",
    "\n",
    "def format_instruction_examples(dataset):\n",
    "    \"\"\"Convert dataset examples to instruction format\"\"\"\n",
    "    formatted_dataset = []\n",
    "    \n",
    "    # Process each example\n",
    "    for i in range(len(dataset)):\n",
    "        example = dataset[i]\n",
    "        \n",
    "        if 'Sent1_parse' in example and 'Sent2_parse' in example:\n",
    "            premise_raw = example['Sent1_parse']\n",
    "            hypothesis_raw = example['Sent2_parse']\n",
    "            \n",
    "            premise = extract_sentence(premise_raw)\n",
    "            hypothesis = extract_sentence(hypothesis_raw)\n",
    "            \n",
    "            # Format as instruction\n",
    "            instruction = f\"\"\"\n",
    "Task: Determine if the premise entails, contradicts, or is neutral to the hypothesis.\n",
    "\n",
    "Premise: {premise}\n",
    "Hypothesis: {hypothesis}\n",
    "\n",
    "Answer with only one word: entailment, contradiction, or neutral.\n",
    "\"\"\"\n",
    "            \n",
    "            # For training examples, get label if available\n",
    "            label = None\n",
    "            if 'Label' in example:\n",
    "                label_text = example['Label']\n",
    "                if isinstance(label_text, str) and label_text != \"-\":\n",
    "                    if label_text == 'entailment':\n",
    "                        label = 0\n",
    "                    elif label_text == 'contradiction':\n",
    "                        label = 1\n",
    "                    elif label_text == 'neutral':\n",
    "                        label = 2\n",
    "            \n",
    "            formatted_dataset.append({\n",
    "                \"input\": instruction,\n",
    "                \"label\": label\n",
    "            })\n",
    "    \n",
    "    return Dataset.from_list(formatted_dataset)\n",
    "\n",
    "def prepare_tokenized_datasets(train_dataset, val_dataset, test_dataset):\n",
    "    \"\"\"\n",
    "    Prepare tokenized datasets for evaluation\n",
    "    \"\"\"\n",
    "    print(\"\\nPreparing tokenized datasets for evaluation...\")\n",
    "    \n",
    "    # Initialize tokenizer\n",
    "    from transformers import AutoTokenizer\n",
    "    tokenizer = AutoTokenizer.from_pretrained(\"bert-base-uncased\")\n",
    "    \n",
    "    # Convert to instruction format\n",
    "    train_instruction = format_instruction_examples(train_dataset)\n",
    "    val_instruction = format_instruction_examples(val_dataset)\n",
    "    test_instruction = format_instruction_examples(test_dataset)\n",
    "    \n",
    "    # Create tokenization function\n",
    "    def tokenize_function(examples):\n",
    "        return tokenizer(examples[\"input\"], truncation=True, padding=\"max_length\", max_length=256)\n",
    "    \n",
    "    # Tokenize datasets\n",
    "    train_tokenized = train_instruction.map(tokenize_function, batched=True)\n",
    "    val_tokenized = val_instruction.map(tokenize_function, batched=True)\n",
    "    test_tokenized = test_instruction.map(tokenize_function, batched=True)\n",
    "    \n",
    "    # Set format for PyTorch\n",
    "    train_tokenized.set_format(type=\"torch\", columns=[\"input_ids\", \"attention_mask\", \"label\"])\n",
    "    val_tokenized.set_format(type=\"torch\", columns=[\"input_ids\", \"attention_mask\", \"label\"])\n",
    "    test_tokenized.set_format(type=\"torch\", columns=[\"input_ids\", \"attention_mask\", \"label\"])\n",
    "    \n",
    "    print(f\"Tokenized dataset sizes: Train={len(train_tokenized)}, Val={len(val_tokenized)}, Test={len(test_tokenized)}\")\n",
    "    \n",
    "    return train_tokenized, val_tokenized, test_tokenized, tokenizer\n",
    "\n",
    "def plot_results(val_metrics, test_metrics, id2label, output_dir):\n",
    "    \"\"\"\n",
    "    Create visualizations of model performance\n",
    "    \"\"\"\n",
    "    # Create bar chart comparing validation and test metrics\n",
    "    metrics = ['accuracy', 'f1_macro']\n",
    "    val_values = [val_metrics['eval_' + m] for m in metrics]\n",
    "    test_values = [test_metrics['eval_' + m] for m in metrics]\n",
    "    \n",
    "    plt.figure(figsize=(10, 6))\n",
    "    x = np.arange(len(metrics))\n",
    "    width = 0.35\n",
    "    \n",
    "    plt.bar(x - width/2, val_values, width, label='Validation')\n",
    "    plt.bar(x + width/2, test_values, width, label='Test')\n",
    "    \n",
    "    plt.xlabel('Metrics')\n",
    "    plt.ylabel('Score')\n",
    "    plt.title('Model Performance')\n",
    "    plt.xticks(x, ['Accuracy', 'F1 Macro'])\n",
    "    plt.legend()\n",
    "    plt.ylim(0, 1.0)\n",
    "    \n",
    "    for i, v in enumerate(val_values):\n",
    "        plt.text(i - width/2, v + 0.01, f'{v:.3f}', ha='center')\n",
    "    \n",
    "    for i, v in enumerate(test_values):\n",
    "        plt.text(i + width/2, v + 0.01, f'{v:.3f}', ha='center')\n",
    "    \n",
    "    plt.tight_layout()\n",
    "    plt.savefig(f'{output_dir}/model_performance.png')\n",
    "    plt.show()\n",
    "\n",
    "def generate_confusion_matrix(trainer, test_tokenized, id2label, output_dir):\n",
    "    \"\"\"\n",
    "    Generate and save confusion matrix visualization\n",
    "    Uses tokenized test dataset\n",
    "    \"\"\"\n",
    "    print(\"\\n⏳ Generating detailed test metrics...\")\n",
    "    test_preds = trainer.predict(test_tokenized)\n",
    "    preds = np.argmax(test_preds.predictions, axis=-1)\n",
    "    labels = test_preds.label_ids\n",
    "    \n",
    "    # Create confusion matrix\n",
    "    cm = confusion_matrix(labels, preds)\n",
    "    \n",
    "    \n",
    "    label_names = list(id2label.values())\n",
    "    \n",
    "    # Plot confusion matrix\n",
    "    plt.figure(figsize=(10, 8))\n",
    "    sns.heatmap(cm, annot=True, fmt='d', cmap='Blues', \n",
    "                xticklabels=label_names, \n",
    "                yticklabels=label_names)\n",
    "    plt.xlabel('Predicted')\n",
    "    plt.ylabel('True')\n",
    "    plt.title('Confusion Matrix')\n",
    "    confusion_matrix_path = f\"{output_dir}/confusion_matrix.png\"\n",
    "    plt.savefig(confusion_matrix_path)\n",
    "    plt.show()\n",
    "    \n",
    "    # Generate classification report\n",
    "    report = classification_report(labels, preds, \n",
    "                                  target_names=label_names, \n",
    "                                  output_dict=True)\n",
    "    \n",
    "    # Save the classification report as a text file\n",
    "    with open(f\"{output_dir}/classification_report.txt\", 'w') as f:\n",
    "        f.write(classification_report(labels, preds, target_names=label_names))\n",
    "    \n",
    "    return report\n",
    "\n",
    "def generate_submission_files(trainer, tokenizer, val_df, test_df, id2label, output_dir):\n",
    "    \"\"\"\n",
    "    Generate prediction files in the required format for submission\n",
    "    Adds predictions as the last column of the original TSV files\n",
    "    \"\"\"\n",
    "    print(\"\\n📝 Generating submission files...\")\n",
    "    \n",
    "    # Process validation file\n",
    "    print(\"Processing validation file...\")\n",
    "    val_examples = []\n",
    "    for idx, row in val_df.iterrows():\n",
    "        premise = extract_sentence(row['Sent1_parse'])\n",
    "        hypothesis = extract_sentence(row['Sent2_parse'])\n",
    "        \n",
    "        instruction = f\"\"\"\n",
    "Task: Determine if the premise entails, contradicts, or is neutral to the hypothesis.\n",
    "\n",
    "Premise: {premise}\n",
    "Hypothesis: {hypothesis}\n",
    "\n",
    "Answer with only one word: entailment, contradiction, or neutral.\n",
    "\"\"\"\n",
    "        val_examples.append({\"input\": instruction})\n",
    "    \n",
    "    val_instruction_dataset = Dataset.from_list(val_examples)\n",
    "    \n",
    "    # Tokenize\n",
    "    def tokenize_function(examples):\n",
    "        return tokenizer(examples[\"input\"], truncation=True, padding=\"max_length\", max_length=256)\n",
    "    \n",
    "    val_tokenized = val_instruction_dataset.map(tokenize_function, batched=True)\n",
    "    val_tokenized.set_format(type=\"torch\", columns=[\"input_ids\", \"attention_mask\"])\n",
    "    \n",
    "    # Generate predictions\n",
    "    val_predictions = trainer.predict(val_tokenized)\n",
    "    val_pred_labels = np.argmax(val_predictions.predictions, axis=1)\n",
    "    val_pred_text = [id2label[i] for i in val_pred_labels]\n",
    "    \n",
    "    # Add to original dataframe\n",
    "    val_df_with_preds = val_df.copy()\n",
    "    val_df_with_preds['predicted_label'] = val_pred_text\n",
    "    val_submission_path = f\"{output_dir}/validation_submission.tsv\"\n",
    "    val_df_with_preds.to_csv(val_submission_path, sep='\\t', index=False)\n",
    "    print(f\"✅ Validation submission file saved to {val_submission_path}\")\n",
    "    \n",
    "    # Process test file\n",
    "    print(\"Processing test file...\")\n",
    "    test_examples = []\n",
    "    for idx, row in test_df.iterrows():\n",
    "        premise = extract_sentence(row['Sent1_parse'])\n",
    "        hypothesis = extract_sentence(row['Sent2_parse'])\n",
    "        \n",
    "        instruction = f\"\"\"\n",
    "Task: Determine if the premise entails, contradicts, or is neutral to the hypothesis.\n",
    "\n",
    "Premise: {premise}\n",
    "Hypothesis: {hypothesis}\n",
    "\n",
    "Answer with only one word: entailment, contradiction, or neutral.\n",
    "\"\"\"\n",
    "        test_examples.append({\"input\": instruction})\n",
    "    \n",
    "    test_instruction_dataset = Dataset.from_list(test_examples)\n",
    "    test_tokenized = test_instruction_dataset.map(tokenize_function, batched=True)\n",
    "    test_tokenized.set_format(type=\"torch\", columns=[\"input_ids\", \"attention_mask\"])\n",
    "    \n",
    "    # Generate predictions\n",
    "    test_predictions = trainer.predict(test_tokenized)\n",
    "    test_pred_labels = np.argmax(test_predictions.predictions, axis=1)\n",
    "    test_pred_text = [id2label[i] for i in test_pred_labels]\n",
    "    \n",
    "    # Add to original dataframe\n",
    "    test_df_with_preds = test_df.copy()\n",
    "    test_df_with_preds['predicted_label'] = test_pred_text\n",
    "    test_submission_path = f\"{output_dir}/test_submission.tsv\"\n",
    "    test_df_with_preds.to_csv(test_submission_path, sep='\\t', index=False)\n",
    "    print(f\"✅ Test submission file saved to {test_submission_path}\")\n",
    "    \n",
    "    return val_df_with_preds, test_df_with_preds\n",
    "\n",
    "def analyze_validation_results(val_df_with_preds):\n",
    "    \"\"\"\n",
    "    Analyze validation prediction results in detail\n",
    "    \"\"\"\n",
    "    print(\"\\n🔍 Validation Prediction Analysis:\")\n",
    "    if 'Label' in val_df_with_preds.columns and 'predicted_label' in val_df_with_preds.columns:\n",
    "        # Drop rows with None labels or \"-\" before calculating accuracy\n",
    "        valid_rows = val_df_with_preds.dropna(subset=['Label'])\n",
    "        valid_rows = valid_rows[valid_rows['Label'] != \"-\"]\n",
    "        \n",
    "        if len(valid_rows) > 0:\n",
    "            # Count correct/incorrect predictions\n",
    "            valid_rows['is_correct'] = valid_rows['Label'] == valid_rows['predicted_label']\n",
    "            accuracy = valid_rows['is_correct'].mean()\n",
    "            print(f\"Accuracy: {accuracy:.4f} (on {len(valid_rows)} labeled examples)\")\n",
    "            \n",
    "            # Count predictions by class\n",
    "            print(\"\\nPrediction distribution:\")\n",
    "            print(val_df_with_preds['predicted_label'].value_counts())\n",
    "            \n",
    "            # Check accuracy by class\n",
    "            print(\"\\nAccuracy by class:\")\n",
    "            for label in ['entailment', 'contradiction', 'neutral']:\n",
    "                class_rows = valid_rows[valid_rows['Label'] == label]\n",
    "                if len(class_rows) > 0:\n",
    "                    class_acc = class_rows['is_correct'].mean()\n",
    "                    print(f\"{label}: {class_acc:.4f} ({len(class_rows)} examples)\")\n",
    "        else:\n",
    "            print(\"No valid labeled examples found for evaluation.\")\n",
    "    else:\n",
    "        print(\"Required columns 'Label' or 'predicted_label' not found in validation data.\")\n",
    "\n",
    "    # Count None and \"-\" values in the original dataset\n",
    "    if 'Label' in val_df_with_preds.columns:\n",
    "        none_count = val_df_with_preds['Label'].isna().sum()\n",
    "        dash_count = (val_df_with_preds['Label'] == \"-\").sum()\n",
    "        print(f\"\\nFound {none_count} rows with None values in the validation set Label column.\")\n",
    "        print(f\"Found {dash_count} rows with '-' values in the validation set Label column.\")\n",
    "\n",
    "# Execute the evaluation and submission\n",
    "print(\"=\" * 60)\n",
    "print(\"📊 Evaluating Model and Generating Submission Files\")\n",
    "print(\"=\" * 60)\n",
    "\n",
    "# We need to recreate the tokenized datasets \n",
    "# First, make sure we have access to the original datasets and trained model\n",
    "train_tokenized, val_tokenized, test_tokenized, new_tokenizer = prepare_tokenized_datasets(\n",
    "    train_dataset, val_dataset, test_dataset\n",
    ")\n",
    "\n",
    "# If tokenizer wasn't saved properly, use the newly created one\n",
    "if 'tokenizer' not in globals():\n",
    "    tokenizer = new_tokenizer\n",
    "\n",
    "# Plot metrics comparison\n",
    "plot_results(val_metrics, test_metrics, id2label, output_dir)\n",
    "\n",
    "# Generate confusion matrix and classification report\n",
    "report = generate_confusion_matrix(trainer, test_tokenized, id2label, output_dir)\n",
    "\n",
    "# Generate submission files\n",
    "val_df_with_preds, test_df_with_preds = generate_submission_files(\n",
    "    trainer, tokenizer, val_df, test_df, id2label, output_dir\n",
    ")\n",
    "\n",
    "# Analyze validation results\n",
    "analyze_validation_results(val_df_with_preds)\n",
    "\n",
    "print(\"\\n✅ Evaluation complete and submission files generated!\")\n",
    "print(f\"Validation file: {output_dir}/validation_submission.tsv\")\n",
    "print(f\"Test file: {output_dir}/test_submission.tsv\")"
   ]
  },
  {
   "cell_type": "code",
   "execution_count": 20,
   "metadata": {
    "execution": {
     "iopub.execute_input": "2025-04-02T04:10:56.607093Z",
     "iopub.status.busy": "2025-04-02T04:10:56.606719Z",
     "iopub.status.idle": "2025-04-02T04:12:23.502326Z",
     "shell.execute_reply": "2025-04-02T04:12:23.501506Z",
     "shell.execute_reply.started": "2025-04-02T04:10:56.607059Z"
    },
    "trusted": true
   },
   "outputs": [
    {
     "name": "stdout",
     "output_type": "stream",
     "text": [
      "  adding: kaggle/working/nli_model_20250401_195419/ (stored 0%)\n",
      "  adding: kaggle/working/nli_model_20250401_195419/best-model/ (stored 0%)\n",
      "  adding: kaggle/working/nli_model_20250401_195419/best-model/config.json (deflated 51%)\n",
      "  adding: kaggle/working/nli_model_20250401_195419/best-model/model.safetensors (deflated 7%)\n",
      "  adding: kaggle/working/nli_model_20250401_195419/best-model/tokenizer_config.json (deflated 75%)\n",
      "  adding: kaggle/working/nli_model_20250401_195419/best-model/tokenizer.json (deflated 71%)\n",
      "  adding: kaggle/working/nli_model_20250401_195419/best-model/training_args.bin (deflated 51%)\n",
      "  adding: kaggle/working/nli_model_20250401_195419/best-model/special_tokens_map.json (deflated 42%)\n",
      "  adding: kaggle/working/nli_model_20250401_195419/best-model/vocab.txt (deflated 53%)\n",
      "  adding: kaggle/working/nli_model_20250401_195419/validation_submission.tsv (deflated 90%)\n",
      "  adding: kaggle/working/nli_model_20250401_195419/classification_report.txt (deflated 61%)\n",
      "  adding: kaggle/working/nli_model_20250401_195419/test_submission.tsv (deflated 90%)\n",
      "  adding: kaggle/working/nli_model_20250401_195419/confusion_matrix.png (deflated 20%)\n",
      "  adding: kaggle/working/nli_model_20250401_195419/model_info.txt (deflated 30%)\n",
      "  adding: kaggle/working/nli_model_20250401_195419/model_performance.png (deflated 27%)\n",
      "  adding: kaggle/working/nli_model_20250401_195419/checkpoint-2146/ (stored 0%)\n",
      "  adding: kaggle/working/nli_model_20250401_195419/checkpoint-2146/scheduler.pt (deflated 56%)\n",
      "  adding: kaggle/working/nli_model_20250401_195419/checkpoint-2146/optimizer.pt (deflated 16%)\n",
      "  adding: kaggle/working/nli_model_20250401_195419/checkpoint-2146/config.json (deflated 51%)\n",
      "  adding: kaggle/working/nli_model_20250401_195419/checkpoint-2146/rng_state.pth (deflated 25%)\n",
      "  adding: kaggle/working/nli_model_20250401_195419/checkpoint-2146/model.safetensors (deflated 7%)\n",
      "  adding: kaggle/working/nli_model_20250401_195419/checkpoint-2146/trainer_state.json (deflated 62%)\n",
      "  adding: kaggle/working/nli_model_20250401_195419/checkpoint-2146/tokenizer_config.json (deflated 75%)\n",
      "  adding: kaggle/working/nli_model_20250401_195419/checkpoint-2146/tokenizer.json (deflated 71%)\n",
      "  adding: kaggle/working/nli_model_20250401_195419/checkpoint-2146/training_args.bin (deflated 51%)\n",
      "  adding: kaggle/working/nli_model_20250401_195419/checkpoint-2146/special_tokens_map.json (deflated 42%)\n",
      "  adding: kaggle/working/nli_model_20250401_195419/checkpoint-2146/vocab.txt (deflated 53%)\n",
      "Zip file created, you can download it from the Output tab\n"
     ]
    },
    {
     "data": {
      "text/html": [
       "<a href='nli_model_20250401_195419.zip' target='_blank'>nli_model_20250401_195419.zip</a><br>"
      ],
      "text/plain": [
       "/kaggle/working/nli_model_20250401_195419.zip"
      ]
     },
     "execution_count": 20,
     "metadata": {},
     "output_type": "execute_result"
    }
   ],
   "source": [
    "# Create a zip file of your directory\n",
    "!zip -r /kaggle/working/nli_model_20250401_195419.zip /kaggle/working/nli_model_*\n",
    "\n",
    "print(\"Zip file created, you can download it from the Output tab\")\n",
    "from IPython.display import FileLink\n",
    "FileLink(r'nli_model_20250401_195419.zip')"
   ]
  }
 ],
 "metadata": {
  "kaggle": {
   "accelerator": "nvidiaTeslaT4",
   "dataSources": [
    {
     "datasetId": 7019515,
     "sourceId": 11236335,
     "sourceType": "datasetVersion"
    }
   ],
   "dockerImageVersionId": 30919,
   "isGpuEnabled": true,
   "isInternetEnabled": true,
   "language": "python",
   "sourceType": "notebook"
  },
  "kernelspec": {
   "display_name": "Python 3",
   "language": "python",
   "name": "python3"
  },
  "language_info": {
   "codemirror_mode": {
    "name": "ipython",
    "version": 3
   },
   "file_extension": ".py",
   "mimetype": "text/x-python",
   "name": "python",
   "nbconvert_exporter": "python",
   "pygments_lexer": "ipython3",
   "version": "3.10.12"
  }
 },
 "nbformat": 4,
 "nbformat_minor": 4
}
